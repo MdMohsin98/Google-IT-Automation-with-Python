{
 "cells": [
  {
   "cell_type": "code",
   "execution_count": 1,
   "id": "61c4acad",
   "metadata": {},
   "outputs": [],
   "source": [
    "class Fruit:\n",
    "    def __init__(self, color, flavor):\n",
    "        self.color = color\n",
    "        self.flavor = flavor"
   ]
  },
  {
   "cell_type": "code",
   "execution_count": 2,
   "id": "3b8d974b",
   "metadata": {},
   "outputs": [],
   "source": [
    "class Apple(Fruit):\n",
    "    pass"
   ]
  },
  {
   "cell_type": "code",
   "execution_count": 3,
   "id": "5ac07f36",
   "metadata": {},
   "outputs": [],
   "source": [
    "class Grapes(Fruit):\n",
    "    pass"
   ]
  },
  {
   "cell_type": "code",
   "execution_count": 4,
   "id": "b5bb28eb",
   "metadata": {},
   "outputs": [],
   "source": [
    "granny_smith = Apple(\"green\", \"tart\")"
   ]
  },
  {
   "cell_type": "code",
   "execution_count": 6,
   "id": "a7450515",
   "metadata": {},
   "outputs": [],
   "source": [
    "carnelian = Grapes(\"purple\", \"sweet\")"
   ]
  },
  {
   "cell_type": "code",
   "execution_count": 7,
   "id": "fab74758",
   "metadata": {},
   "outputs": [
    {
     "name": "stdout",
     "output_type": "stream",
     "text": [
      "tart\n"
     ]
    }
   ],
   "source": [
    "print(granny_smith.flavor)"
   ]
  },
  {
   "cell_type": "code",
   "execution_count": 8,
   "id": "dfc9e3b2",
   "metadata": {},
   "outputs": [
    {
     "name": "stdout",
     "output_type": "stream",
     "text": [
      "purple\n"
     ]
    }
   ],
   "source": [
    "print(carnelian.color)"
   ]
  },
  {
   "cell_type": "code",
   "execution_count": 9,
   "id": "f6c3dbda",
   "metadata": {},
   "outputs": [],
   "source": [
    "class Animal:\n",
    "    sound = \"\"\n",
    "    def __init__(self, name):\n",
    "        self.name = name\n",
    "    def speak(self):\n",
    "        print(\"{sound} I'm {name}! {sound}\".format(sound = self.sound, name = self.name))"
   ]
  },
  {
   "cell_type": "code",
   "execution_count": 11,
   "id": "f266725a",
   "metadata": {},
   "outputs": [],
   "source": [
    "class Piglet(Animal):\n",
    "    sound = \"Oink!\""
   ]
  },
  {
   "cell_type": "code",
   "execution_count": 12,
   "id": "373531dd",
   "metadata": {},
   "outputs": [
    {
     "name": "stdout",
     "output_type": "stream",
     "text": [
      "Oink! I'm Hamlet! Oink!\n"
     ]
    }
   ],
   "source": [
    "hamlet = Piglet(\"Hamlet\")\n",
    "hamlet.speak()"
   ]
  },
  {
   "cell_type": "code",
   "execution_count": 13,
   "id": "9dbe44fb",
   "metadata": {},
   "outputs": [],
   "source": [
    "class Cow(Animal):\n",
    "    sound = \"Moooooo\""
   ]
  },
  {
   "cell_type": "code",
   "execution_count": 15,
   "id": "313e4b21",
   "metadata": {},
   "outputs": [
    {
     "name": "stdout",
     "output_type": "stream",
     "text": [
      "Moooooo I'm Milky White! Moooooo\n"
     ]
    }
   ],
   "source": [
    "milky = Cow(\"Milky White\")\n",
    "milky.speak()"
   ]
  },
  {
   "cell_type": "markdown",
   "id": "51818abc",
   "metadata": {},
   "source": [
    "# Composition"
   ]
  },
  {
   "cell_type": "code",
   "execution_count": 16,
   "id": "50370104",
   "metadata": {},
   "outputs": [],
   "source": [
    "class Repository:\n",
    "    def __init__(self):\n",
    "        self.packages = {}\n",
    "    def add_package(self, package):\n",
    "        self.package[package.name] = package\n",
    "    def total_size(self):\n",
    "        result = 0\n",
    "        for package in self.packages.values():\n",
    "            result += package.size\n",
    "        return result"
   ]
  },
  {
   "cell_type": "code",
   "execution_count": null,
   "id": "d008d4cf",
   "metadata": {},
   "outputs": [],
   "source": []
  }
 ],
 "metadata": {
  "kernelspec": {
   "display_name": "Python 3 (ipykernel)",
   "language": "python",
   "name": "python3"
  },
  "language_info": {
   "codemirror_mode": {
    "name": "ipython",
    "version": 3
   },
   "file_extension": ".py",
   "mimetype": "text/x-python",
   "name": "python",
   "nbconvert_exporter": "python",
   "pygments_lexer": "ipython3",
   "version": "3.10.2"
  }
 },
 "nbformat": 4,
 "nbformat_minor": 5
}
