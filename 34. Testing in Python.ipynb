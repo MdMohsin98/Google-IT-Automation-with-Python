{
 "cells": [
  {
   "cell_type": "code",
   "execution_count": 3,
   "id": "5b56748b",
   "metadata": {},
   "outputs": [],
   "source": [
    "#!/usr/bin/env python3\n",
    "\n",
    "import re\n",
    "\n",
    "def rearrange_name(name):\n",
    "\tresult = re.search(r\"^([\\w .]*), ([\\w .]*)$\", name)\n",
    "\tif result is None:\n",
    "\t\treturn name\n",
    "\treturn \"{} {}\".format(result[2], result[1])"
   ]
  },
  {
   "cell_type": "code",
   "execution_count": 4,
   "id": "1c7a16dc",
   "metadata": {},
   "outputs": [
    {
     "name": "stderr",
     "output_type": "stream",
     "text": [
      "E\n",
      "======================================================================\n",
      "ERROR: C:\\Users\\Dell\\AppData\\Roaming\\jupyter\\runtime\\kernel-c911a6f7-10f9-4052-b496-138fe499efd2 (unittest.loader._FailedTest)\n",
      "----------------------------------------------------------------------\n",
      "AttributeError: module '__main__' has no attribute 'C:\\Users\\Dell\\AppData\\Roaming\\jupyter\\runtime\\kernel-c911a6f7-10f9-4052-b496-138fe499efd2'\n",
      "\n",
      "----------------------------------------------------------------------\n",
      "Ran 1 test in 0.023s\n",
      "\n",
      "FAILED (errors=1)\n"
     ]
    },
    {
     "ename": "SystemExit",
     "evalue": "True",
     "output_type": "error",
     "traceback": [
      "An exception has occurred, use %tb to see the full traceback.\n",
      "\u001b[1;31mSystemExit\u001b[0m\u001b[1;31m:\u001b[0m True\n"
     ]
    },
    {
     "name": "stderr",
     "output_type": "stream",
     "text": [
      "C:\\Users\\Dell\\AppData\\Local\\Programs\\Python\\Python310\\lib\\site-packages\\IPython\\core\\interactiveshell.py:3259: UserWarning: To exit: use 'exit', 'quit', or Ctrl-D.\n",
      "  warn(\"To exit: use 'exit', 'quit', or Ctrl-D.\", stacklevel=1)\n"
     ]
    }
   ],
   "source": [
    "#!/usr/bin/env python3\n",
    "\n",
    "from rearrange import rearrange_name\n",
    "import unittest\n",
    "\n",
    "class TestRearrange(unittest.TestCase):\n",
    "\tdef test_basic(self):\n",
    "\t\ttest_case = \"Lovelace, Ada\"\n",
    "\t\texpected = \"Ada Lovelace\"\n",
    "\t\tself.assertEqual(rearrange_name(test_case), expected)\n",
    "\n",
    "\tdef test_empty(self):\n",
    "\t\ttestcase = \"\"\n",
    "\t\texpected = \"\"\n",
    "\t\tself.assertEqual(rearrange_name(testcase), expected)\n",
    "\n",
    "\tdef test_double_name(self):\n",
    "\t\ttestcase = \"Hopper, Grace M.\"\n",
    "\t\texpected = \"Grace M. Hopper\"\n",
    "\t\tself.assertEqual(rearrange_name(testcase), expected)\n",
    "\n",
    "\tdef test_one_name(self):\n",
    "\t\ttestcase = \"Voltaire\"\n",
    "\t\texpected = \"Voltaire\"\n",
    "\t\tself.assertEqual(rearrange_name(testcase), expected)\n",
    "\n",
    "\n",
    "unittest.main()"
   ]
  },
  {
   "cell_type": "code",
   "execution_count": null,
   "id": "bc3282c1",
   "metadata": {},
   "outputs": [],
   "source": []
  }
 ],
 "metadata": {
  "kernelspec": {
   "display_name": "Python 3 (ipykernel)",
   "language": "python",
   "name": "python3"
  },
  "language_info": {
   "codemirror_mode": {
    "name": "ipython",
    "version": 3
   },
   "file_extension": ".py",
   "mimetype": "text/x-python",
   "name": "python",
   "nbconvert_exporter": "python",
   "pygments_lexer": "ipython3",
   "version": "3.10.2"
  }
 },
 "nbformat": 4,
 "nbformat_minor": 5
}
