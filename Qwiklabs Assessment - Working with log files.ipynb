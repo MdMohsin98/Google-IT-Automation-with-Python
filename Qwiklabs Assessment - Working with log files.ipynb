{
 "cells": [
  {
   "cell_type": "code",
   "execution_count": null,
   "id": "c8f8ef3f",
   "metadata": {},
   "outputs": [],
   "source": [
    "#!/usr/bin/env python3\n",
    "\n",
    "import sys\n",
    "import os\n",
    "import re\n",
    "\n",
    "def error_search(log_file):\n",
    "        error = input(\"What is the error? \")\n",
    "        returned_errors = []\n",
    "        with open(log_file, mode= 'r', encoding= 'UTF-8') as file:\n",
    "                for log in file.readlines():\n",
    "                        error_patterns = [\"error\"]\n",
    "                        for i in range(len(error.split(' '))):\n",
    "                                error_patterns.append(r\"{}\".format(error.split(' ')[i].lower()))\n",
    "                        if all(re.search(error_pattern, log.lower()) for error_pattern in error_patterns):\n",
    "                                returned_errors.append(log)\n",
    "                file.close()\n",
    "        return returned_errors\n",
    "\n",
    "def file_output(returned_errors):\n",
    "        with open(os.path.expanduser('~') + '/data/errors_found.log', 'w') as file:\n",
    "                for error in returned_errors:\n",
    "                        file.write(error)\n",
    "                file.close()\n",
    "\n",
    "if __name__ == \"__main__\":\n",
    "        log_file = sys.argv[1]\n",
    "        returned_errors = error_search(log_file)\n",
    "        file_output(returned_errors)\n",
    "        sys.exit(0)\n"
   ]
  },
  {
   "cell_type": "code",
   "execution_count": 4,
   "id": "207f7b35",
   "metadata": {},
   "outputs": [],
   "source": [
    "import requests\n",
    "google = requests.get(\"http://www.google.com\")"
   ]
  },
  {
   "cell_type": "code",
   "execution_count": 8,
   "id": "d2a9e08d",
   "metadata": {
    "scrolled": false
   },
   "outputs": [
    {
     "data": {
      "text/plain": [
       "16260"
      ]
     },
     "execution_count": 8,
     "metadata": {},
     "output_type": "execute_result"
    }
   ],
   "source": [
    "len(google.text)"
   ]
  },
  {
   "cell_type": "code",
   "execution_count": null,
   "id": "ea9ac27e",
   "metadata": {},
   "outputs": [],
   "source": []
  }
 ],
 "metadata": {
  "kernelspec": {
   "display_name": "Python 3 (ipykernel)",
   "language": "python",
   "name": "python3"
  },
  "language_info": {
   "codemirror_mode": {
    "name": "ipython",
    "version": 3
   },
   "file_extension": ".py",
   "mimetype": "text/x-python",
   "name": "python",
   "nbconvert_exporter": "python",
   "pygments_lexer": "ipython3",
   "version": "3.10.2"
  }
 },
 "nbformat": 4,
 "nbformat_minor": 5
}
