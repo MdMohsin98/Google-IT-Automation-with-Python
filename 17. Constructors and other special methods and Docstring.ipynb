{
 "cells": [
  {
   "cell_type": "code",
   "execution_count": 1,
   "id": "97a5f327",
   "metadata": {},
   "outputs": [],
   "source": [
    "class Apple:\n",
    "    def __init__(self, color, flavor):\n",
    "        self.color = color\n",
    "        self.flavor = flavor"
   ]
  },
  {
   "cell_type": "code",
   "execution_count": 2,
   "id": "d88b1b38",
   "metadata": {},
   "outputs": [
    {
     "name": "stdout",
     "output_type": "stream",
     "text": [
      "red\n"
     ]
    }
   ],
   "source": [
    "jonagold = Apple(\"red\", \"sweet\")\n",
    "print(jonagold.color)"
   ]
  },
  {
   "cell_type": "code",
   "execution_count": 3,
   "id": "42adca8b",
   "metadata": {},
   "outputs": [
    {
     "name": "stdout",
     "output_type": "stream",
     "text": [
      "<__main__.Apple object at 0x0000026452BAA740>\n"
     ]
    }
   ],
   "source": [
    "print(jonagold)"
   ]
  },
  {
   "cell_type": "code",
   "execution_count": 4,
   "id": "97a77d6b",
   "metadata": {},
   "outputs": [],
   "source": [
    "class Apple:\n",
    "    def __init__(self, color, flavor):\n",
    "        self.color = color\n",
    "        self.flavor = flavor\n",
    "    def __str__(self):\n",
    "        return \"This apple is {} and its flavor is {}\".format(self.color, self.flavor)"
   ]
  },
  {
   "cell_type": "code",
   "execution_count": 5,
   "id": "bf9c0940",
   "metadata": {},
   "outputs": [
    {
     "name": "stdout",
     "output_type": "stream",
     "text": [
      "This apple is red and its flavor is sweet\n"
     ]
    }
   ],
   "source": [
    "jonagold = Apple(\"red\", \"sweet\")\n",
    "print(jonagold)"
   ]
  },
  {
   "cell_type": "code",
   "execution_count": 7,
   "id": "99e41d1e",
   "metadata": {},
   "outputs": [
    {
     "name": "stdout",
     "output_type": "stream",
     "text": [
      "Help on class Apple in module __main__:\n",
      "\n",
      "class Apple(builtins.object)\n",
      " |  Apple(color, flavor)\n",
      " |  \n",
      " |  Methods defined here:\n",
      " |  \n",
      " |  __init__(self, color, flavor)\n",
      " |      Initialize self.  See help(type(self)) for accurate signature.\n",
      " |  \n",
      " |  __str__(self)\n",
      " |      Return str(self).\n",
      " |  \n",
      " |  ----------------------------------------------------------------------\n",
      " |  Data descriptors defined here:\n",
      " |  \n",
      " |  __dict__\n",
      " |      dictionary for instance variables (if defined)\n",
      " |  \n",
      " |  __weakref__\n",
      " |      list of weak references to the object (if defined)\n",
      "\n"
     ]
    }
   ],
   "source": [
    "help(Apple)"
   ]
  },
  {
   "cell_type": "markdown",
   "id": "29987c0b",
   "metadata": {},
   "source": [
    "# Docstring"
   ]
  },
  {
   "cell_type": "code",
   "execution_count": 8,
   "id": "56b0c7b1",
   "metadata": {},
   "outputs": [],
   "source": [
    "def to_seconds(hours, minutes, seconds):\n",
    "    \"\"\" Returns the amount of seconds in the given hours, minutes, and seconds. \"\"\"\n",
    "    return hours*3600 + minutes*60 + seconds"
   ]
  },
  {
   "cell_type": "code",
   "execution_count": 9,
   "id": "687945be",
   "metadata": {},
   "outputs": [
    {
     "name": "stdout",
     "output_type": "stream",
     "text": [
      "Help on function to_seconds in module __main__:\n",
      "\n",
      "to_seconds(hours, minutes, seconds)\n",
      "    Returns the amount of seconds in the given hours, minutes, and seconds.\n",
      "\n"
     ]
    }
   ],
   "source": [
    "help(to_seconds)"
   ]
  },
  {
   "cell_type": "code",
   "execution_count": null,
   "id": "1a555fc5",
   "metadata": {},
   "outputs": [],
   "source": []
  },
  {
   "cell_type": "code",
   "execution_count": null,
   "id": "faee9599",
   "metadata": {},
   "outputs": [],
   "source": []
  },
  {
   "cell_type": "code",
   "execution_count": null,
   "id": "119884cf",
   "metadata": {},
   "outputs": [],
   "source": []
  },
  {
   "cell_type": "code",
   "execution_count": null,
   "id": "0dc21ada",
   "metadata": {},
   "outputs": [],
   "source": []
  },
  {
   "cell_type": "code",
   "execution_count": null,
   "id": "bec75f24",
   "metadata": {},
   "outputs": [],
   "source": []
  },
  {
   "cell_type": "code",
   "execution_count": null,
   "id": "91f39d6a",
   "metadata": {},
   "outputs": [],
   "source": []
  }
 ],
 "metadata": {
  "kernelspec": {
   "display_name": "Python 3 (ipykernel)",
   "language": "python",
   "name": "python3"
  },
  "language_info": {
   "codemirror_mode": {
    "name": "ipython",
    "version": 3
   },
   "file_extension": ".py",
   "mimetype": "text/x-python",
   "name": "python",
   "nbconvert_exporter": "python",
   "pygments_lexer": "ipython3",
   "version": "3.10.2"
  }
 },
 "nbformat": 4,
 "nbformat_minor": 5
}
