{
 "cells": [
  {
   "cell_type": "code",
   "execution_count": null,
   "id": "bab9bd1e",
   "metadata": {},
   "outputs": [],
   "source": [
    "#!/usr/bin/env python3\n",
    "\n",
    "import re\n",
    "import sys\n",
    "import operator\n",
    "import csv\n",
    "\n",
    "error = {}\n",
    "per_user = {}\n",
    "\n",
    "with open(\"syslog.log\") as f:\n",
    "        for line in f:\n",
    "                username = re.search(r\"\\((.*)\\)\",line).group(1)\n",
    "                user_count = {'INFO': 0, 'ERROR': 0}\n",
    "                if username not in per_user:\n",
    "                        per_user[username] = user_count\n",
    "                if \"INFO\" in line:\n",
    "                        per_user[username]['INFO'] += 1\n",
    "                elif \"ERROR\" in line:\n",
    "                        err_msg = re.search(r\"ERROR (.*) \", line).group(1)\n",
    "                        if err_msg not in error:\n",
    "                                error[err_msg] = 0\n",
    "                        error[err_msg] += 1\n",
    "                        per_user[username]['ERROR'] += 1\n",
    "\n",
    "error_sorted = []\n",
    "user_sorted = []\n",
    "\n",
    "for error, count in sorted(error.items(), key= lambda item: item[1], reverse=True)\n",
    "\n",
    "        error_sorted.append([error, count])\n",
    "\n",
    "for username in sorted(per_user.keys()):\n",
    "        user_sorted.append([username, per_user[username][\"INFO\"], per_user[username]\n",
    "\n",
    "error_sorted.insert(0, [\"Error\", \"Count\"])\n",
    "user_sorted.insert(0,[\"Username\", \"INFO\", \"ERROR\"])\n",
    "\n",
    "with open(\"error_message.csv\", \"w\") as error_msg_file:\n",
    "        writer = csv.writer(error_msg_file)\n",
    "        writer.writerows(error_sorted)\n",
    "        error_msg_file.close()\n",
    "\n",
    "with open(\"user_statistics.csv\", \"w\") as user_statistics_file:\n",
    "        writer = csv.writer(user_statistics_file)\n",
    "        writer.writerows(user_sorted)\n",
    "        user_statistics_file.close()\n"
   ]
  }
 ],
 "metadata": {
  "kernelspec": {
   "display_name": "Python 3 (ipykernel)",
   "language": "python",
   "name": "python3"
  },
  "language_info": {
   "codemirror_mode": {
    "name": "ipython",
    "version": 3
   },
   "file_extension": ".py",
   "mimetype": "text/x-python",
   "name": "python",
   "nbconvert_exporter": "python",
   "pygments_lexer": "ipython3",
   "version": "3.10.2"
  }
 },
 "nbformat": 4,
 "nbformat_minor": 5
}
