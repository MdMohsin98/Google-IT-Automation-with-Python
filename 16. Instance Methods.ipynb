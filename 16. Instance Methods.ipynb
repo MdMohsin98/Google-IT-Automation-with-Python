{
 "cells": [
  {
   "cell_type": "code",
   "execution_count": 3,
   "id": "58897d38",
   "metadata": {},
   "outputs": [],
   "source": [
    "class Piglet:\n",
    "    pass\n",
    "\n",
    "hamlet = Piglet()"
   ]
  },
  {
   "cell_type": "code",
   "execution_count": 4,
   "id": "8469aef8",
   "metadata": {},
   "outputs": [],
   "source": [
    "class Piglet:\n",
    "    def speak(self):\n",
    "        print(\"oink oink\")"
   ]
  },
  {
   "cell_type": "code",
   "execution_count": 5,
   "id": "829309c0",
   "metadata": {},
   "outputs": [
    {
     "name": "stdout",
     "output_type": "stream",
     "text": [
      "oink oink\n"
     ]
    }
   ],
   "source": [
    "hamlet = Piglet()\n",
    "hamlet.speak()"
   ]
  },
  {
   "cell_type": "code",
   "execution_count": 6,
   "id": "f73fb19b",
   "metadata": {},
   "outputs": [],
   "source": [
    "class Piglet:\n",
    "    name = \"piglet\"\n",
    "    def speak(self):\n",
    "        print(\"Oink! I'm {} Oink!\".format(self.name))"
   ]
  },
  {
   "cell_type": "code",
   "execution_count": 7,
   "id": "0134c2dd",
   "metadata": {},
   "outputs": [
    {
     "name": "stdout",
     "output_type": "stream",
     "text": [
      "Oink! I'm Hamlet Oink!\n"
     ]
    }
   ],
   "source": [
    "hamlet = Piglet()\n",
    "hamlet.name = \"Hamlet\"\n",
    "hamlet.speak()"
   ]
  },
  {
   "cell_type": "code",
   "execution_count": 8,
   "id": "9c22a174",
   "metadata": {},
   "outputs": [
    {
     "name": "stdout",
     "output_type": "stream",
     "text": [
      "Oink! I'm Petunia Oink!\n"
     ]
    }
   ],
   "source": [
    "petunia = Piglet()\n",
    "petunia.name = \"Petunia\"\n",
    "petunia.speak()"
   ]
  },
  {
   "cell_type": "code",
   "execution_count": 9,
   "id": "7b9ece33",
   "metadata": {},
   "outputs": [],
   "source": [
    "class Piglet:\n",
    "    years = 0\n",
    "    def pig_years(self):\n",
    "        return self.years*18"
   ]
  },
  {
   "cell_type": "code",
   "execution_count": 10,
   "id": "61f12294",
   "metadata": {},
   "outputs": [
    {
     "name": "stdout",
     "output_type": "stream",
     "text": [
      "0\n"
     ]
    }
   ],
   "source": [
    "piggy = Piglet()\n",
    "print(piggy.pig_years())"
   ]
  },
  {
   "cell_type": "code",
   "execution_count": 11,
   "id": "9453976c",
   "metadata": {},
   "outputs": [
    {
     "name": "stdout",
     "output_type": "stream",
     "text": [
      "54\n"
     ]
    }
   ],
   "source": [
    "piggy.years = 3\n",
    "print(piggy.pig_years())"
   ]
  },
  {
   "cell_type": "code",
   "execution_count": 1,
   "id": "b87ef7ab",
   "metadata": {},
   "outputs": [],
   "source": [
    "class Piglet:\n",
    "    \"\"\"Represents a piglet that can say their name \"\"\"\n",
    "    years = 0\n",
    "    name = \"\"\n",
    "    def speak(self):\n",
    "        \"\"\"Outputs a message including the name of the piglet.\"\"\"\n",
    "        print(\"Oink! I'm {} Oink!\".format(self.name))\n",
    "    def pig_years(self):\n",
    "        \"\"\"Converts the current age to equivalent pig years \"\"\"\n",
    "        return self.years*18"
   ]
  },
  {
   "cell_type": "code",
   "execution_count": null,
   "id": "9bd01538",
   "metadata": {},
   "outputs": [],
   "source": []
  },
  {
   "cell_type": "code",
   "execution_count": null,
   "id": "880ba91a",
   "metadata": {},
   "outputs": [],
   "source": []
  },
  {
   "cell_type": "code",
   "execution_count": null,
   "id": "24e202c4",
   "metadata": {},
   "outputs": [],
   "source": []
  },
  {
   "cell_type": "code",
   "execution_count": null,
   "id": "550778da",
   "metadata": {},
   "outputs": [],
   "source": []
  }
 ],
 "metadata": {
  "kernelspec": {
   "display_name": "Python 3 (ipykernel)",
   "language": "python",
   "name": "python3"
  },
  "language_info": {
   "codemirror_mode": {
    "name": "ipython",
    "version": 3
   },
   "file_extension": ".py",
   "mimetype": "text/x-python",
   "name": "python",
   "nbconvert_exporter": "python",
   "pygments_lexer": "ipython3",
   "version": "3.10.2"
  }
 },
 "nbformat": 4,
 "nbformat_minor": 5
}
