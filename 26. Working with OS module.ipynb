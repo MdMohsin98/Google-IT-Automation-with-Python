{
 "cells": [
  {
   "cell_type": "code",
   "execution_count": 19,
   "id": "d2408626",
   "metadata": {},
   "outputs": [],
   "source": [
    "import os"
   ]
  },
  {
   "cell_type": "code",
   "execution_count": 22,
   "id": "17e0f36b",
   "metadata": {
    "scrolled": false
   },
   "outputs": [
    {
     "name": "stdout",
     "output_type": "stream",
     "text": [
      ".ipynb_checkpoints\n",
      "1. Hello World.ipynb\n",
      "10. Strings.ipynb\n",
      "11. Iterating over lists and tuples.ipynb\n",
      "12. List comprehension.ipynb\n",
      "13. Dictionaries.ipynb\n",
      "14. Iterating over the contents of a Dictionary.ipynb\n",
      "15. Defining new classes.ipynb\n",
      "16. Instance Methods.ipynb\n",
      "17. Constructors and other special methods and Docstring.ipynb\n",
      "18.  Inheritance.ipynb\n",
      "19. Modules.ipynb\n",
      "2. Getting Input from user.ipynb\n",
      "20. Research.ipynb\n",
      "21. Writing a script from the Ground Up.ipynb\n",
      "22. How to run a Python Script.ipynb\n",
      "23. Checking Device Health.ipynb\n",
      "24. Reading files.ipynb\n",
      "25. Writing files.ipynb\n",
      "26. Working with OS module.ipynb\n",
      "3. Python as a Calculator.ipynb\n",
      "4. Variables.ipynb\n",
      "5. Data Types.ipynb\n",
      "6. Defining Functions.ipynb\n",
      "7. Comparison Operators.ipynb\n",
      "8. Conditional Statements.ipynb\n",
      "9. Loops.ipynb\n",
      "Automation with excel files.ipynb\n",
      "cheat_sheet.pdf\n",
      "Course Introduction.ipynb\n",
      "download.png\n",
      "Extra.ipynb\n",
      "health_checks.py\n",
      "novel.txt\n",
      "Revision - Crash course of Python.ipynb\n",
      "the_house_on_henry_street.txt\n"
     ]
    }
   ],
   "source": [
    "for file in os.listdir():\n",
    "    print(file)"
   ]
  },
  {
   "cell_type": "code",
   "execution_count": 23,
   "id": "0f630560",
   "metadata": {},
   "outputs": [],
   "source": [
    "os.remove(\"novel.txt\")"
   ]
  },
  {
   "cell_type": "code",
   "execution_count": 24,
   "id": "6cdaa0df",
   "metadata": {},
   "outputs": [
    {
     "name": "stdout",
     "output_type": "stream",
     "text": [
      ".ipynb_checkpoints\n",
      "1. Hello World.ipynb\n",
      "10. Strings.ipynb\n",
      "11. Iterating over lists and tuples.ipynb\n",
      "12. List comprehension.ipynb\n",
      "13. Dictionaries.ipynb\n",
      "14. Iterating over the contents of a Dictionary.ipynb\n",
      "15. Defining new classes.ipynb\n",
      "16. Instance Methods.ipynb\n",
      "17. Constructors and other special methods and Docstring.ipynb\n",
      "18.  Inheritance.ipynb\n",
      "19. Modules.ipynb\n",
      "2. Getting Input from user.ipynb\n",
      "20. Research.ipynb\n",
      "21. Writing a script from the Ground Up.ipynb\n",
      "22. How to run a Python Script.ipynb\n",
      "23. Checking Device Health.ipynb\n",
      "24. Reading files.ipynb\n",
      "25. Writing files.ipynb\n",
      "26. Working with OS module.ipynb\n",
      "3. Python as a Calculator.ipynb\n",
      "4. Variables.ipynb\n",
      "5. Data Types.ipynb\n",
      "6. Defining Functions.ipynb\n",
      "7. Comparison Operators.ipynb\n",
      "8. Conditional Statements.ipynb\n",
      "9. Loops.ipynb\n",
      "Automation with excel files.ipynb\n",
      "cheat_sheet.pdf\n",
      "Course Introduction.ipynb\n",
      "download.png\n",
      "Extra.ipynb\n",
      "health_checks.py\n",
      "Revision - Crash course of Python.ipynb\n",
      "the_house_on_henry_street.txt\n"
     ]
    }
   ],
   "source": [
    "for file in os.listdir():\n",
    "    print(file)"
   ]
  },
  {
   "cell_type": "code",
   "execution_count": 25,
   "id": "d2eebbe3",
   "metadata": {},
   "outputs": [
    {
     "ename": "FileNotFoundError",
     "evalue": "[WinError 2] The system cannot find the file specified: 'novel.txt'",
     "output_type": "error",
     "traceback": [
      "\u001b[1;31m---------------------------------------------------------------------------\u001b[0m",
      "\u001b[1;31mFileNotFoundError\u001b[0m                         Traceback (most recent call last)",
      "Input \u001b[1;32mIn [25]\u001b[0m, in \u001b[0;36m<module>\u001b[1;34m\u001b[0m\n\u001b[1;32m----> 1\u001b[0m \u001b[43mos\u001b[49m\u001b[38;5;241;43m.\u001b[39;49m\u001b[43mremove\u001b[49m\u001b[43m(\u001b[49m\u001b[38;5;124;43m\"\u001b[39;49m\u001b[38;5;124;43mnovel.txt\u001b[39;49m\u001b[38;5;124;43m\"\u001b[39;49m\u001b[43m)\u001b[49m\n",
      "\u001b[1;31mFileNotFoundError\u001b[0m: [WinError 2] The system cannot find the file specified: 'novel.txt'"
     ]
    }
   ],
   "source": [
    "os.remove(\"novel.txt\")"
   ]
  },
  {
   "cell_type": "code",
   "execution_count": 27,
   "id": "73d16314",
   "metadata": {},
   "outputs": [],
   "source": [
    "# Again writing file novel.txt\n",
    "with open(\"novel.txt\", \"w\") as file:\n",
    "    file.writelines(\"It was dark and stormy night\")"
   ]
  },
  {
   "cell_type": "code",
   "execution_count": 30,
   "id": "bb0733de",
   "metadata": {},
   "outputs": [
    {
     "name": "stdout",
     "output_type": "stream",
     "text": [
      "It was dark and stormy night\n"
     ]
    }
   ],
   "source": [
    "with open(\"novel.txt\", \"r\") as file:\n",
    "    print(file.readline())"
   ]
  },
  {
   "cell_type": "code",
   "execution_count": 31,
   "id": "d5aea445",
   "metadata": {},
   "outputs": [
    {
     "data": {
      "text/plain": [
       "['.ipynb_checkpoints',\n",
       " '1. Hello World.ipynb',\n",
       " '10. Strings.ipynb',\n",
       " '11. Iterating over lists and tuples.ipynb',\n",
       " '12. List comprehension.ipynb',\n",
       " '13. Dictionaries.ipynb',\n",
       " '14. Iterating over the contents of a Dictionary.ipynb',\n",
       " '15. Defining new classes.ipynb',\n",
       " '16. Instance Methods.ipynb',\n",
       " '17. Constructors and other special methods and Docstring.ipynb',\n",
       " '18.  Inheritance.ipynb',\n",
       " '19. Modules.ipynb',\n",
       " '2. Getting Input from user.ipynb',\n",
       " '20. Research.ipynb',\n",
       " '21. Writing a script from the Ground Up.ipynb',\n",
       " '22. How to run a Python Script.ipynb',\n",
       " '23. Checking Device Health.ipynb',\n",
       " '24. Reading files.ipynb',\n",
       " '25. Writing files.ipynb',\n",
       " '26. Working with OS module.ipynb',\n",
       " '3. Python as a Calculator.ipynb',\n",
       " '4. Variables.ipynb',\n",
       " '5. Data Types.ipynb',\n",
       " '6. Defining Functions.ipynb',\n",
       " '7. Comparison Operators.ipynb',\n",
       " '8. Conditional Statements.ipynb',\n",
       " '9. Loops.ipynb',\n",
       " 'Automation with excel files.ipynb',\n",
       " 'cheat_sheet.pdf',\n",
       " 'Course Introduction.ipynb',\n",
       " 'download.png',\n",
       " 'Extra.ipynb',\n",
       " 'health_checks.py',\n",
       " 'novel.txt',\n",
       " 'Revision - Crash course of Python.ipynb',\n",
       " 'the_house_on_henry_street.txt']"
      ]
     },
     "execution_count": 31,
     "metadata": {},
     "output_type": "execute_result"
    }
   ],
   "source": [
    "os.listdir()"
   ]
  },
  {
   "cell_type": "code",
   "execution_count": 32,
   "id": "5e40d50e",
   "metadata": {},
   "outputs": [],
   "source": [
    "os.rename(\"novel.txt\", \"one_line_novel.txt\")"
   ]
  },
  {
   "cell_type": "code",
   "execution_count": 33,
   "id": "c08cdd40",
   "metadata": {},
   "outputs": [
    {
     "data": {
      "text/plain": [
       "['.ipynb_checkpoints',\n",
       " '1. Hello World.ipynb',\n",
       " '10. Strings.ipynb',\n",
       " '11. Iterating over lists and tuples.ipynb',\n",
       " '12. List comprehension.ipynb',\n",
       " '13. Dictionaries.ipynb',\n",
       " '14. Iterating over the contents of a Dictionary.ipynb',\n",
       " '15. Defining new classes.ipynb',\n",
       " '16. Instance Methods.ipynb',\n",
       " '17. Constructors and other special methods and Docstring.ipynb',\n",
       " '18.  Inheritance.ipynb',\n",
       " '19. Modules.ipynb',\n",
       " '2. Getting Input from user.ipynb',\n",
       " '20. Research.ipynb',\n",
       " '21. Writing a script from the Ground Up.ipynb',\n",
       " '22. How to run a Python Script.ipynb',\n",
       " '23. Checking Device Health.ipynb',\n",
       " '24. Reading files.ipynb',\n",
       " '25. Writing files.ipynb',\n",
       " '26. Working with OS module.ipynb',\n",
       " '3. Python as a Calculator.ipynb',\n",
       " '4. Variables.ipynb',\n",
       " '5. Data Types.ipynb',\n",
       " '6. Defining Functions.ipynb',\n",
       " '7. Comparison Operators.ipynb',\n",
       " '8. Conditional Statements.ipynb',\n",
       " '9. Loops.ipynb',\n",
       " 'Automation with excel files.ipynb',\n",
       " 'cheat_sheet.pdf',\n",
       " 'Course Introduction.ipynb',\n",
       " 'download.png',\n",
       " 'Extra.ipynb',\n",
       " 'health_checks.py',\n",
       " 'one_line_novel.txt',\n",
       " 'Revision - Crash course of Python.ipynb',\n",
       " 'the_house_on_henry_street.txt']"
      ]
     },
     "execution_count": 33,
     "metadata": {},
     "output_type": "execute_result"
    }
   ],
   "source": [
    "os.listdir()"
   ]
  },
  {
   "cell_type": "code",
   "execution_count": 34,
   "id": "8b135d91",
   "metadata": {},
   "outputs": [],
   "source": [
    "os.rename(\"one_line_novel.txt\", \"novel.txt\")"
   ]
  },
  {
   "cell_type": "code",
   "execution_count": 35,
   "id": "836d30bf",
   "metadata": {},
   "outputs": [
    {
     "data": {
      "text/plain": [
       "['.ipynb_checkpoints',\n",
       " '1. Hello World.ipynb',\n",
       " '10. Strings.ipynb',\n",
       " '11. Iterating over lists and tuples.ipynb',\n",
       " '12. List comprehension.ipynb',\n",
       " '13. Dictionaries.ipynb',\n",
       " '14. Iterating over the contents of a Dictionary.ipynb',\n",
       " '15. Defining new classes.ipynb',\n",
       " '16. Instance Methods.ipynb',\n",
       " '17. Constructors and other special methods and Docstring.ipynb',\n",
       " '18.  Inheritance.ipynb',\n",
       " '19. Modules.ipynb',\n",
       " '2. Getting Input from user.ipynb',\n",
       " '20. Research.ipynb',\n",
       " '21. Writing a script from the Ground Up.ipynb',\n",
       " '22. How to run a Python Script.ipynb',\n",
       " '23. Checking Device Health.ipynb',\n",
       " '24. Reading files.ipynb',\n",
       " '25. Writing files.ipynb',\n",
       " '26. Working with OS module.ipynb',\n",
       " '3. Python as a Calculator.ipynb',\n",
       " '4. Variables.ipynb',\n",
       " '5. Data Types.ipynb',\n",
       " '6. Defining Functions.ipynb',\n",
       " '7. Comparison Operators.ipynb',\n",
       " '8. Conditional Statements.ipynb',\n",
       " '9. Loops.ipynb',\n",
       " 'Automation with excel files.ipynb',\n",
       " 'cheat_sheet.pdf',\n",
       " 'Course Introduction.ipynb',\n",
       " 'download.png',\n",
       " 'Extra.ipynb',\n",
       " 'health_checks.py',\n",
       " 'novel.txt',\n",
       " 'Revision - Crash course of Python.ipynb',\n",
       " 'the_house_on_henry_street.txt']"
      ]
     },
     "execution_count": 35,
     "metadata": {},
     "output_type": "execute_result"
    }
   ],
   "source": [
    "os.listdir()"
   ]
  },
  {
   "cell_type": "code",
   "execution_count": 36,
   "id": "b3c97855",
   "metadata": {},
   "outputs": [
    {
     "data": {
      "text/plain": [
       "True"
      ]
     },
     "execution_count": 36,
     "metadata": {},
     "output_type": "execute_result"
    }
   ],
   "source": [
    "os.path.exists(\"novel.txt\")"
   ]
  },
  {
   "cell_type": "code",
   "execution_count": 62,
   "id": "96390774",
   "metadata": {},
   "outputs": [
    {
     "data": {
      "text/plain": [
       "False"
      ]
     },
     "execution_count": 62,
     "metadata": {},
     "output_type": "execute_result"
    }
   ],
   "source": [
    "os.path.exists(\"the house on henry street.txt\")"
   ]
  },
  {
   "cell_type": "markdown",
   "id": "1461017b",
   "metadata": {},
   "source": [
    "# More file information"
   ]
  },
  {
   "cell_type": "code",
   "execution_count": 52,
   "id": "194dc122",
   "metadata": {},
   "outputs": [
    {
     "name": "stdout",
     "output_type": "stream",
     "text": [
      ".ipynb_checkpoints 12288\n",
      "1. Hello World.ipynb 734\n",
      "10. Strings.ipynb 7646\n",
      "11. Iterating over lists and tuples.ipynb 2476\n",
      "12. List comprehension.ipynb 4083\n",
      "13. Dictionaries.ipynb 7448\n",
      "14. Iterating over the contents of a Dictionary.ipynb 15292\n",
      "15. Defining new classes.ipynb 2483\n",
      "16. Instance Methods.ipynb 4141\n",
      "17. Constructors and other special methods and Docstring.ipynb 4872\n",
      "18.  Inheritance.ipynb 4209\n",
      "19. Modules.ipynb 5805\n",
      "2. Getting Input from user.ipynb 1575\n",
      "20. Research.ipynb 2070\n",
      "21. Writing a script from the Ground Up.ipynb 4527\n",
      "22. How to run a Python Script.ipynb 589\n",
      "23. Checking Device Health.ipynb 13724\n",
      "24. Reading files.ipynb 5240\n",
      "25. Writing files.ipynb 1556\n",
      "26. Working with OS module.ipynb 18198\n",
      "3. Python as a Calculator.ipynb 2498\n",
      "4. Variables.ipynb 916\n",
      "5. Data Types.ipynb 3614\n",
      "6. Defining Functions.ipynb 3525\n",
      "7. Comparison Operators.ipynb 3624\n",
      "8. Conditional Statements.ipynb 2509\n",
      "9. Loops.ipynb 1841\n",
      "Automation with excel files.ipynb 34964\n",
      "cheat_sheet.pdf 372919\n",
      "Course Introduction.ipynb 3016\n",
      "download.png 54578\n",
      "Extra.ipynb 36083\n",
      "health_checks.py 404\n",
      "novel.txt 28\n",
      "Revision - Crash course of Python.ipynb 589\n",
      "the_house_on_henry_street.txt 392717\n"
     ]
    }
   ],
   "source": [
    "for file in os.listdir():\n",
    "    print(\"{} {:=.0f}\".format(file, os.path.getsize(file)))"
   ]
  },
  {
   "cell_type": "code",
   "execution_count": 53,
   "id": "29c49e57",
   "metadata": {},
   "outputs": [
    {
     "name": "stdout",
     "output_type": "stream",
     "text": [
      "28\n"
     ]
    }
   ],
   "source": [
    "print(os.path.getsize(\"novel.txt\"))"
   ]
  },
  {
   "cell_type": "code",
   "execution_count": 54,
   "id": "35f62f1f",
   "metadata": {},
   "outputs": [
    {
     "name": "stdout",
     "output_type": "stream",
     "text": [
      "1658720207.036822\n"
     ]
    }
   ],
   "source": [
    "print(os.path.getmtime(\"novel.txt\"))"
   ]
  },
  {
   "cell_type": "code",
   "execution_count": 56,
   "id": "1795e459",
   "metadata": {},
   "outputs": [],
   "source": [
    "# To make this time human readable we use datetime module\n",
    "import datetime\n",
    "timestamp = os.path.getmtime(\"novel.txt\")"
   ]
  },
  {
   "cell_type": "code",
   "execution_count": 57,
   "id": "7244e8d1",
   "metadata": {},
   "outputs": [
    {
     "data": {
      "text/plain": [
       "datetime.datetime(2022, 7, 25, 9, 6, 47, 36822)"
      ]
     },
     "execution_count": 57,
     "metadata": {},
     "output_type": "execute_result"
    }
   ],
   "source": [
    "datetime.datetime.fromtimestamp(timestamp)"
   ]
  },
  {
   "cell_type": "code",
   "execution_count": 59,
   "id": "61b6074f",
   "metadata": {},
   "outputs": [
    {
     "name": "stdout",
     "output_type": "stream",
     "text": [
      "C:\\Users\\Dell\\Google IT Automation with Python\\novel.txt\n"
     ]
    }
   ],
   "source": [
    "print(os.path.abspath(\"novel.txt\"))"
   ]
  },
  {
   "cell_type": "code",
   "execution_count": 61,
   "id": "e31be883",
   "metadata": {},
   "outputs": [
    {
     "name": "stdout",
     "output_type": "stream",
     "text": [
      "C:\\Users\\Dell\\Google IT Automation with Python\\.ipynb_checkpoints\n",
      "C:\\Users\\Dell\\Google IT Automation with Python\\1. Hello World.ipynb\n",
      "C:\\Users\\Dell\\Google IT Automation with Python\\10. Strings.ipynb\n",
      "C:\\Users\\Dell\\Google IT Automation with Python\\11. Iterating over lists and tuples.ipynb\n",
      "C:\\Users\\Dell\\Google IT Automation with Python\\12. List comprehension.ipynb\n",
      "C:\\Users\\Dell\\Google IT Automation with Python\\13. Dictionaries.ipynb\n",
      "C:\\Users\\Dell\\Google IT Automation with Python\\14. Iterating over the contents of a Dictionary.ipynb\n",
      "C:\\Users\\Dell\\Google IT Automation with Python\\15. Defining new classes.ipynb\n",
      "C:\\Users\\Dell\\Google IT Automation with Python\\16. Instance Methods.ipynb\n",
      "C:\\Users\\Dell\\Google IT Automation with Python\\17. Constructors and other special methods and Docstring.ipynb\n",
      "C:\\Users\\Dell\\Google IT Automation with Python\\18.  Inheritance.ipynb\n",
      "C:\\Users\\Dell\\Google IT Automation with Python\\19. Modules.ipynb\n",
      "C:\\Users\\Dell\\Google IT Automation with Python\\2. Getting Input from user.ipynb\n",
      "C:\\Users\\Dell\\Google IT Automation with Python\\20. Research.ipynb\n",
      "C:\\Users\\Dell\\Google IT Automation with Python\\21. Writing a script from the Ground Up.ipynb\n",
      "C:\\Users\\Dell\\Google IT Automation with Python\\22. How to run a Python Script.ipynb\n",
      "C:\\Users\\Dell\\Google IT Automation with Python\\23. Checking Device Health.ipynb\n",
      "C:\\Users\\Dell\\Google IT Automation with Python\\24. Reading files.ipynb\n",
      "C:\\Users\\Dell\\Google IT Automation with Python\\25. Writing files.ipynb\n",
      "C:\\Users\\Dell\\Google IT Automation with Python\\26. Working with OS module.ipynb\n",
      "C:\\Users\\Dell\\Google IT Automation with Python\\3. Python as a Calculator.ipynb\n",
      "C:\\Users\\Dell\\Google IT Automation with Python\\4. Variables.ipynb\n",
      "C:\\Users\\Dell\\Google IT Automation with Python\\5. Data Types.ipynb\n",
      "C:\\Users\\Dell\\Google IT Automation with Python\\6. Defining Functions.ipynb\n",
      "C:\\Users\\Dell\\Google IT Automation with Python\\7. Comparison Operators.ipynb\n",
      "C:\\Users\\Dell\\Google IT Automation with Python\\8. Conditional Statements.ipynb\n",
      "C:\\Users\\Dell\\Google IT Automation with Python\\9. Loops.ipynb\n",
      "C:\\Users\\Dell\\Google IT Automation with Python\\Automation with excel files.ipynb\n",
      "C:\\Users\\Dell\\Google IT Automation with Python\\cheat_sheet.pdf\n",
      "C:\\Users\\Dell\\Google IT Automation with Python\\Course Introduction.ipynb\n",
      "C:\\Users\\Dell\\Google IT Automation with Python\\download.png\n",
      "C:\\Users\\Dell\\Google IT Automation with Python\\Extra.ipynb\n",
      "C:\\Users\\Dell\\Google IT Automation with Python\\health_checks.py\n",
      "C:\\Users\\Dell\\Google IT Automation with Python\\novel.txt\n",
      "C:\\Users\\Dell\\Google IT Automation with Python\\Revision - Crash course of Python.ipynb\n",
      "C:\\Users\\Dell\\Google IT Automation with Python\\the_house_on_henry_street.txt\n",
      "None\n"
     ]
    }
   ],
   "source": [
    "for file in os.listdir():\n",
    "    file = print(os.path.abspath(file))\n",
    "print(file)"
   ]
  },
  {
   "cell_type": "code",
   "execution_count": null,
   "id": "461c628a",
   "metadata": {},
   "outputs": [],
   "source": []
  }
 ],
 "metadata": {
  "kernelspec": {
   "display_name": "Python 3 (ipykernel)",
   "language": "python",
   "name": "python3"
  },
  "language_info": {
   "codemirror_mode": {
    "name": "ipython",
    "version": 3
   },
   "file_extension": ".py",
   "mimetype": "text/x-python",
   "name": "python",
   "nbconvert_exporter": "python",
   "pygments_lexer": "ipython3",
   "version": "3.10.2"
  }
 },
 "nbformat": 4,
 "nbformat_minor": 5
}
