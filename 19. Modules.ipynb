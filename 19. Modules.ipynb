{
 "cells": [
  {
   "cell_type": "code",
   "execution_count": 1,
   "id": "2bbc059f",
   "metadata": {},
   "outputs": [],
   "source": [
    "import random"
   ]
  },
  {
   "cell_type": "code",
   "execution_count": 2,
   "id": "ee207116",
   "metadata": {},
   "outputs": [
    {
     "data": {
      "text/plain": [
       "2"
      ]
     },
     "execution_count": 2,
     "metadata": {},
     "output_type": "execute_result"
    }
   ],
   "source": [
    "random.randint(1,10)"
   ]
  },
  {
   "cell_type": "code",
   "execution_count": 3,
   "id": "bbb83d45",
   "metadata": {},
   "outputs": [
    {
     "data": {
      "text/plain": [
       "5"
      ]
     },
     "execution_count": 3,
     "metadata": {},
     "output_type": "execute_result"
    }
   ],
   "source": [
    "random.randint(1,10)"
   ]
  },
  {
   "cell_type": "code",
   "execution_count": 4,
   "id": "1dafe095",
   "metadata": {},
   "outputs": [
    {
     "data": {
      "text/plain": [
       "8"
      ]
     },
     "execution_count": 4,
     "metadata": {},
     "output_type": "execute_result"
    }
   ],
   "source": [
    "random.randint(1,10)"
   ]
  },
  {
   "cell_type": "code",
   "execution_count": 5,
   "id": "3fb2ce6a",
   "metadata": {},
   "outputs": [],
   "source": [
    "import datetime"
   ]
  },
  {
   "cell_type": "code",
   "execution_count": 6,
   "id": "8650b750",
   "metadata": {},
   "outputs": [],
   "source": [
    "now = datetime.datetime.now()"
   ]
  },
  {
   "cell_type": "code",
   "execution_count": 7,
   "id": "06b08d03",
   "metadata": {},
   "outputs": [
    {
     "data": {
      "text/plain": [
       "datetime.datetime"
      ]
     },
     "execution_count": 7,
     "metadata": {},
     "output_type": "execute_result"
    }
   ],
   "source": [
    "type(now)"
   ]
  },
  {
   "cell_type": "code",
   "execution_count": 8,
   "id": "762006c3",
   "metadata": {},
   "outputs": [
    {
     "name": "stdout",
     "output_type": "stream",
     "text": [
      "2022-07-15 10:34:35.734717\n"
     ]
    }
   ],
   "source": [
    "print(now)"
   ]
  },
  {
   "cell_type": "code",
   "execution_count": 9,
   "id": "b3dbad09",
   "metadata": {},
   "outputs": [
    {
     "data": {
      "text/plain": [
       "2022"
      ]
     },
     "execution_count": 9,
     "metadata": {},
     "output_type": "execute_result"
    }
   ],
   "source": [
    "now.year"
   ]
  },
  {
   "cell_type": "code",
   "execution_count": 10,
   "id": "b8ad65a5",
   "metadata": {},
   "outputs": [
    {
     "data": {
      "text/plain": [
       "15"
      ]
     },
     "execution_count": 10,
     "metadata": {},
     "output_type": "execute_result"
    }
   ],
   "source": [
    "now.day"
   ]
  },
  {
   "cell_type": "code",
   "execution_count": 12,
   "id": "31bb1c97",
   "metadata": {},
   "outputs": [
    {
     "data": {
      "text/plain": [
       "15"
      ]
     },
     "execution_count": 12,
     "metadata": {},
     "output_type": "execute_result"
    }
   ],
   "source": [
    "now.day"
   ]
  },
  {
   "cell_type": "code",
   "execution_count": 13,
   "id": "a9be3b17",
   "metadata": {},
   "outputs": [
    {
     "name": "stdout",
     "output_type": "stream",
     "text": [
      "2022-08-12 10:34:35.734717\n"
     ]
    }
   ],
   "source": [
    "print(now + datetime.timedelta(days = 28))"
   ]
  },
  {
   "cell_type": "code",
   "execution_count": 37,
   "id": "2c041c92",
   "metadata": {},
   "outputs": [],
   "source": [
    "import random\n",
    "small_letters = list('abcdefghijklmnopqrstuvwxyz')\n",
    "capital_letters = list('abcdefghijklmnopqrstuvwxyz'.upper())\n",
    "numbers = list('0123456789')\n",
    "\n",
    "def generate_otp():\n",
    "    first_digit = random.randint(0,9)\n",
    "    second_digit = random.randint(0,9)\n",
    "    third_digit = random.choice(small_letters)\n",
    "    fourth_digit = random.choice(capital_letters)\n",
    "    fifth_digit = random.choice(small_letters)\n",
    "    sixth_digit = random.choice(capital_letters)\n",
    "    \n",
    "    otp = str(first_digit) + str(second_digit) + str(third_digit) + str(fourth_digit) + str(fifth_digit) + str(sixth_digit)\n",
    "    return otp"
   ]
  },
  {
   "cell_type": "code",
   "execution_count": 39,
   "id": "bebe637f",
   "metadata": {},
   "outputs": [],
   "source": [
    "def user_input():\n",
    "    text = input(\"Please Enter the OTP : \")\n",
    "    if text == recieved_otp:\n",
    "        print(\"Correct Input\")\n",
    "    else:\n",
    "        print(\"Please Input Correctly\")       "
   ]
  },
  {
   "cell_type": "code",
   "execution_count": 55,
   "id": "ce5351c7",
   "metadata": {},
   "outputs": [
    {
     "name": "stdout",
     "output_type": "stream",
     "text": [
      "79nNsS\n"
     ]
    }
   ],
   "source": [
    "recieved_otp = generate_otp()\n",
    "print(recieved_otp)"
   ]
  },
  {
   "cell_type": "code",
   "execution_count": 56,
   "id": "2485a83d",
   "metadata": {},
   "outputs": [
    {
     "name": "stdout",
     "output_type": "stream",
     "text": [
      "Please Enter the OTP : 80nNsS\n",
      "Please Input Correctly\n"
     ]
    }
   ],
   "source": [
    "user_input()"
   ]
  },
  {
   "cell_type": "code",
   "execution_count": null,
   "id": "8e57a3bd",
   "metadata": {},
   "outputs": [],
   "source": []
  }
 ],
 "metadata": {
  "kernelspec": {
   "display_name": "Python 3 (ipykernel)",
   "language": "python",
   "name": "python3"
  },
  "language_info": {
   "codemirror_mode": {
    "name": "ipython",
    "version": 3
   },
   "file_extension": ".py",
   "mimetype": "text/x-python",
   "name": "python",
   "nbconvert_exporter": "python",
   "pygments_lexer": "ipython3",
   "version": "3.10.2"
  }
 },
 "nbformat": 4,
 "nbformat_minor": 5
}
