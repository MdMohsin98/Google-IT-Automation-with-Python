{
 "cells": [
  {
   "cell_type": "code",
   "execution_count": 19,
   "id": "1f242b36",
   "metadata": {},
   "outputs": [],
   "source": [
    "with open(\"novel.txt\", \"w\") as file:\n",
    "    file.write(\"It was a dark and stormy night\")"
   ]
  },
  {
   "cell_type": "code",
   "execution_count": 20,
   "id": "4d3f1208",
   "metadata": {},
   "outputs": [],
   "source": [
    "with open(\"novel.txt\", \"a\") as file:\n",
    "    file.write(\"\\nHello there I have appended text at the end of the file\")"
   ]
  },
  {
   "cell_type": "code",
   "execution_count": 21,
   "id": "732576b0",
   "metadata": {},
   "outputs": [
    {
     "name": "stdout",
     "output_type": "stream",
     "text": [
      "It was a dark and stormy night\n",
      "Hello there I have appended text at the end of the file\n"
     ]
    }
   ],
   "source": [
    "with open(\"novel.txt\", \"r\") as file:\n",
    "    for line in file:\n",
    "        print(line.strip())"
   ]
  },
  {
   "cell_type": "code",
   "execution_count": null,
   "id": "68d1376b",
   "metadata": {},
   "outputs": [],
   "source": [
    "with open(\"novel.txt\", \"w\") as file:\n",
    "    file."
   ]
  }
 ],
 "metadata": {
  "kernelspec": {
   "display_name": "Python 3 (ipykernel)",
   "language": "python",
   "name": "python3"
  },
  "language_info": {
   "codemirror_mode": {
    "name": "ipython",
    "version": 3
   },
   "file_extension": ".py",
   "mimetype": "text/x-python",
   "name": "python",
   "nbconvert_exporter": "python",
   "pygments_lexer": "ipython3",
   "version": "3.10.2"
  }
 },
 "nbformat": 4,
 "nbformat_minor": 5
}
