{
 "cells": [
  {
   "cell_type": "code",
   "execution_count": 5,
   "id": "9a066d1a",
   "metadata": {},
   "outputs": [
    {
     "name": "stdout",
     "output_type": "stream",
     "text": [
      "[0|0] [0|1] [0|2] [0|3] [0|4] [0|5] [0|6] \n",
      "[1|1] [1|2] [1|3] [1|4] [1|5] [1|6] \n",
      "[2|2] [2|3] [2|4] [2|5] [2|6] \n",
      "[3|3] [3|4] [3|5] [3|6] \n",
      "[4|4] [4|5] [4|6] \n",
      "[5|5] [5|6] \n",
      "[6|6] \n"
     ]
    }
   ],
   "source": [
    "for left in range(7):\n",
    "    for right in range(left, 7):\n",
    "        print(\"[\" + str(left) + \"|\" + str(right) + \"]\" , end = \" \")\n",
    "    print()"
   ]
  },
  {
   "cell_type": "code",
   "execution_count": 7,
   "id": "69b8b65c",
   "metadata": {},
   "outputs": [
    {
     "name": "stdout",
     "output_type": "stream",
     "text": [
      "The user answered yes\n"
     ]
    }
   ],
   "source": [
    "answer = \" Yes  \"\n",
    "if answer.lower().strip() == 'yes':\n",
    "    print(\"The user answered yes\")\n",
    "else:\n",
    "    print(\"Wrong user input\")"
   ]
  },
  {
   "cell_type": "code",
   "execution_count": 2,
   "id": "e8380b51",
   "metadata": {},
   "outputs": [
    {
     "data": {
      "text/plain": [
       "'Yes     '"
      ]
     },
     "execution_count": 2,
     "metadata": {},
     "output_type": "execute_result"
    }
   ],
   "source": [
    "answer = \"   Yes     \"\n",
    "answer.lstrip()"
   ]
  },
  {
   "cell_type": "code",
   "execution_count": 3,
   "id": "6351029c",
   "metadata": {},
   "outputs": [
    {
     "data": {
      "text/plain": [
       "'   Yes'"
      ]
     },
     "execution_count": 3,
     "metadata": {},
     "output_type": "execute_result"
    }
   ],
   "source": [
    "answer.rstrip()"
   ]
  },
  {
   "cell_type": "code",
   "execution_count": 4,
   "id": "5eb31178",
   "metadata": {},
   "outputs": [
    {
     "data": {
      "text/plain": [
       "7"
      ]
     },
     "execution_count": 4,
     "metadata": {},
     "output_type": "execute_result"
    }
   ],
   "source": [
    "\"The no. of times e occured in this sentence is : \".count(\"e\")"
   ]
  },
  {
   "cell_type": "code",
   "execution_count": 5,
   "id": "32df19e3",
   "metadata": {},
   "outputs": [
    {
     "data": {
      "text/plain": [
       "True"
      ]
     },
     "execution_count": 5,
     "metadata": {},
     "output_type": "execute_result"
    }
   ],
   "source": [
    "\"Forest\".endswith(\"rest\")"
   ]
  },
  {
   "cell_type": "code",
   "execution_count": 6,
   "id": "e8797ea2",
   "metadata": {},
   "outputs": [
    {
     "data": {
      "text/plain": [
       "False"
      ]
     },
     "execution_count": 6,
     "metadata": {},
     "output_type": "execute_result"
    }
   ],
   "source": [
    "\"Forest\".isnumeric()"
   ]
  },
  {
   "cell_type": "code",
   "execution_count": 7,
   "id": "98707bc3",
   "metadata": {},
   "outputs": [
    {
     "data": {
      "text/plain": [
       "True"
      ]
     },
     "execution_count": 7,
     "metadata": {},
     "output_type": "execute_result"
    }
   ],
   "source": [
    "\"12345\".isnumeric()"
   ]
  },
  {
   "cell_type": "code",
   "execution_count": 8,
   "id": "1189d8a7",
   "metadata": {},
   "outputs": [
    {
     "data": {
      "text/plain": [
       "66666"
      ]
     },
     "execution_count": 8,
     "metadata": {},
     "output_type": "execute_result"
    }
   ],
   "source": [
    "int(\"12345\") + int(\"54321\")"
   ]
  },
  {
   "cell_type": "code",
   "execution_count": 10,
   "id": "de7e4299",
   "metadata": {},
   "outputs": [
    {
     "data": {
      "text/plain": [
       "'This is a phrase joined by spaces'"
      ]
     },
     "execution_count": 10,
     "metadata": {},
     "output_type": "execute_result"
    }
   ],
   "source": [
    "\" \".join([\"This\", \"is\", \"a\", \"phrase\", \"joined\", \"by\", \"spaces\"])"
   ]
  },
  {
   "cell_type": "code",
   "execution_count": 11,
   "id": "eaf46f2f",
   "metadata": {},
   "outputs": [
    {
     "data": {
      "text/plain": [
       "'This...is...a...phrase...joined...by...three...dots'"
      ]
     },
     "execution_count": 11,
     "metadata": {},
     "output_type": "execute_result"
    }
   ],
   "source": [
    "\"...\".join([\"This\", \"is\", \"a\", \"phrase\", \"joined\", \"by\", \"three\", \"dots\"])"
   ]
  },
  {
   "cell_type": "code",
   "execution_count": 12,
   "id": "97909d78",
   "metadata": {},
   "outputs": [
    {
     "data": {
      "text/plain": [
       "['This', 'is', 'another', 'example']"
      ]
     },
     "execution_count": 12,
     "metadata": {},
     "output_type": "execute_result"
    }
   ],
   "source": [
    "\"This is another example\".split()"
   ]
  },
  {
   "cell_type": "code",
   "execution_count": 15,
   "id": "2a1f820b",
   "metadata": {
    "scrolled": true
   },
   "outputs": [
    {
     "data": {
      "text/plain": [
       "['This', 'example', 'will', 'be', 'splitted', 'by', 'comma', 'separator']"
      ]
     },
     "execution_count": 15,
     "metadata": {},
     "output_type": "execute_result"
    }
   ],
   "source": [
    "\"This,example,will,be,splitted,by,comma,separator\".split(\",\")"
   ]
  },
  {
   "cell_type": "code",
   "execution_count": 17,
   "id": "700e915b",
   "metadata": {},
   "outputs": [
    {
     "name": "stdout",
     "output_type": "stream",
     "text": [
      "Hello, Manny your lucky number is : 15\n"
     ]
    }
   ],
   "source": [
    "# Using format method\n",
    "name = \"Manny\"\n",
    "number = len(name) * 3\n",
    "print(\"Hello, {} your lucky number is : {}\".format(name, number))"
   ]
  },
  {
   "cell_type": "code",
   "execution_count": 19,
   "id": "0dd73349",
   "metadata": {},
   "outputs": [
    {
     "name": "stdout",
     "output_type": "stream",
     "text": [
      "Your lucky number is 15, Manny.\n"
     ]
    }
   ],
   "source": [
    "print(\"Your lucky number is {number}, {name}.\".format(name = name, number = len(name)*3))"
   ]
  },
  {
   "cell_type": "code",
   "execution_count": 1,
   "id": "3aad218c",
   "metadata": {},
   "outputs": [
    {
     "name": "stdout",
     "output_type": "stream",
     "text": [
      "Mohan is studying in I.Sc. and subject is Math\n"
     ]
    }
   ],
   "source": [
    "name = \"Mohan\"\n",
    "class_ = \"I.Sc.\"\n",
    "Subject = \"Math\"\n",
    "print(\"{} is studying in {} and subject is {}\".format(name, class_, Subject))"
   ]
  },
  {
   "cell_type": "code",
   "execution_count": 6,
   "id": "dd1d98ee",
   "metadata": {},
   "outputs": [
    {
     "name": "stdout",
     "output_type": "stream",
     "text": [
      "Raju obtained 30.00 marks and failed the examination\n"
     ]
    }
   ],
   "source": [
    "name = \"Raju\"\n",
    "marks = 30\n",
    "print(\"{} obtained {:>0.2f} marks and failed the examination\".format(name, marks))"
   ]
  },
  {
   "cell_type": "code",
   "execution_count": null,
   "id": "36d8c2a5",
   "metadata": {},
   "outputs": [],
   "source": []
  },
  {
   "cell_type": "code",
   "execution_count": null,
   "id": "abaf402b",
   "metadata": {},
   "outputs": [],
   "source": []
  }
 ],
 "metadata": {
  "kernelspec": {
   "display_name": "Python 3 (ipykernel)",
   "language": "python",
   "name": "python3"
  },
  "language_info": {
   "codemirror_mode": {
    "name": "ipython",
    "version": 3
   },
   "file_extension": ".py",
   "mimetype": "text/x-python",
   "name": "python",
   "nbconvert_exporter": "python",
   "pygments_lexer": "ipython3",
   "version": "3.10.2"
  }
 },
 "nbformat": 4,
 "nbformat_minor": 5
}
