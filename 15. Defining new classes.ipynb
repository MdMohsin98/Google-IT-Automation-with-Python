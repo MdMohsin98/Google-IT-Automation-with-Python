{
 "cells": [
  {
   "cell_type": "code",
   "execution_count": 1,
   "id": "1c848f70",
   "metadata": {},
   "outputs": [],
   "source": [
    "class Apple:\n",
    "    pass"
   ]
  },
  {
   "cell_type": "code",
   "execution_count": 2,
   "id": "7178d4d7",
   "metadata": {},
   "outputs": [],
   "source": [
    "class Apple:\n",
    "    color = \"\"\n",
    "    flavor = \"\""
   ]
  },
  {
   "cell_type": "code",
   "execution_count": 3,
   "id": "1dd1677f",
   "metadata": {},
   "outputs": [],
   "source": [
    "jonagold = Apple()"
   ]
  },
  {
   "cell_type": "code",
   "execution_count": 4,
   "id": "1df021bf",
   "metadata": {},
   "outputs": [],
   "source": [
    "jonagold.color = \"red\"\n",
    "jonagold.flavor = \"sweet\""
   ]
  },
  {
   "cell_type": "code",
   "execution_count": 5,
   "id": "c4bea388",
   "metadata": {},
   "outputs": [
    {
     "name": "stdout",
     "output_type": "stream",
     "text": [
      "red\n",
      "sweet\n"
     ]
    }
   ],
   "source": [
    "print(jonagold.color)\n",
    "print(jonagold.flavor)"
   ]
  },
  {
   "cell_type": "code",
   "execution_count": 6,
   "id": "36048e8f",
   "metadata": {},
   "outputs": [
    {
     "name": "stdout",
     "output_type": "stream",
     "text": [
      "RED\n"
     ]
    }
   ],
   "source": [
    "print(jonagold.color.upper())"
   ]
  },
  {
   "cell_type": "code",
   "execution_count": 7,
   "id": "7a9420db",
   "metadata": {},
   "outputs": [],
   "source": [
    "golden = Apple()"
   ]
  },
  {
   "cell_type": "code",
   "execution_count": 8,
   "id": "a66ad9be",
   "metadata": {},
   "outputs": [],
   "source": [
    "golden.color = \"Yellow\"\n",
    "golden.flavor = \"Soft\""
   ]
  },
  {
   "cell_type": "code",
   "execution_count": 9,
   "id": "59d2edb9",
   "metadata": {},
   "outputs": [
    {
     "data": {
      "text/plain": [
       "1234"
      ]
     },
     "execution_count": 9,
     "metadata": {},
     "output_type": "execute_result"
    }
   ],
   "source": [
    "max(12,123,1234)"
   ]
  }
 ],
 "metadata": {
  "kernelspec": {
   "display_name": "Python 3 (ipykernel)",
   "language": "python",
   "name": "python3"
  },
  "language_info": {
   "codemirror_mode": {
    "name": "ipython",
    "version": 3
   },
   "file_extension": ".py",
   "mimetype": "text/x-python",
   "name": "python",
   "nbconvert_exporter": "python",
   "pygments_lexer": "ipython3",
   "version": "3.10.2"
  }
 },
 "nbformat": 4,
 "nbformat_minor": 5
}
