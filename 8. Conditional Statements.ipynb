{
 "cells": [
  {
   "cell_type": "code",
   "execution_count": 1,
   "id": "adf190a0",
   "metadata": {},
   "outputs": [],
   "source": [
    "def valid_username(username):\n",
    "    if len(username) < 3:\n",
    "        print(\"Invalid username. The username should be atleast 3 characters.\")\n",
    "    elif len(username) > 15:\n",
    "        print(\"Invalid username. The username should be atmost 15 characters.\")\n",
    "    else:\n",
    "        print(\"Valid username\")"
   ]
  },
  {
   "cell_type": "code",
   "execution_count": 2,
   "id": "4021fa64",
   "metadata": {},
   "outputs": [
    {
     "name": "stdout",
     "output_type": "stream",
     "text": [
      "Invalid username. The username should be atleast 3 characters.\n"
     ]
    }
   ],
   "source": [
    "valid_username(\"jk\")"
   ]
  },
  {
   "cell_type": "code",
   "execution_count": 3,
   "id": "568a6965",
   "metadata": {},
   "outputs": [
    {
     "name": "stdout",
     "output_type": "stream",
     "text": [
      "Invalid username. The username should be atmost 15 characters.\n"
     ]
    }
   ],
   "source": [
    "valid_username(\"abcdefghijklmnop\")"
   ]
  },
  {
   "cell_type": "code",
   "execution_count": 4,
   "id": "fdb75719",
   "metadata": {},
   "outputs": [
    {
     "name": "stdout",
     "output_type": "stream",
     "text": [
      "Valid username\n"
     ]
    }
   ],
   "source": [
    "valid_username(\"jack\")"
   ]
  },
  {
   "cell_type": "code",
   "execution_count": 5,
   "id": "516df6d0",
   "metadata": {},
   "outputs": [
    {
     "name": "stdout",
     "output_type": "stream",
     "text": [
      "False\n"
     ]
    }
   ],
   "source": [
    "print(\"A dog\" > \"A mouse\")"
   ]
  },
  {
   "cell_type": "code",
   "execution_count": 6,
   "id": "ab7af37f",
   "metadata": {},
   "outputs": [
    {
     "data": {
      "text/plain": [
       "False"
      ]
     },
     "execution_count": 6,
     "metadata": {},
     "output_type": "execute_result"
    }
   ],
   "source": [
    "\"big\" > \"small\""
   ]
  }
 ],
 "metadata": {
  "kernelspec": {
   "display_name": "Python 3 (ipykernel)",
   "language": "python",
   "name": "python3"
  },
  "language_info": {
   "codemirror_mode": {
    "name": "ipython",
    "version": 3
   },
   "file_extension": ".py",
   "mimetype": "text/x-python",
   "name": "python",
   "nbconvert_exporter": "python",
   "pygments_lexer": "ipython3",
   "version": "3.10.2"
  }
 },
 "nbformat": 4,
 "nbformat_minor": 5
}
