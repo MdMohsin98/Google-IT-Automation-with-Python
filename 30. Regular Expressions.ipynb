{
 "cells": [
  {
   "cell_type": "markdown",
   "id": "a0bbb155",
   "metadata": {},
   "source": [
    "# By using string index method"
   ]
  },
  {
   "cell_type": "code",
   "execution_count": 1,
   "id": "19869476",
   "metadata": {},
   "outputs": [
    {
     "name": "stdout",
     "output_type": "stream",
     "text": [
      "123456\n"
     ]
    }
   ],
   "source": [
    "log = \" s;ldfkj 'fiuwer 'lk fas'dlfj [123456] ;laksdfj 'fjiewur'kasdjf-32r0isd:FL\"\n",
    "index = log.index(\"[\")\n",
    "print(log[index+1:index+7])"
   ]
  },
  {
   "cell_type": "markdown",
   "id": "7ec28694",
   "metadata": {},
   "source": [
    "# By importing re library"
   ]
  },
  {
   "cell_type": "code",
   "execution_count": 2,
   "id": "02bbf576",
   "metadata": {},
   "outputs": [
    {
     "name": "stdout",
     "output_type": "stream",
     "text": [
      "123456\n"
     ]
    }
   ],
   "source": [
    "import re\n",
    "log = \" s;ldfkj 'fiuwer 'lk fas'dlfj [123456] ;laksdfj 'fjiewur'kasdjf-32r0isd:FL\"\n",
    "regex = r\"\\[(\\d+)\\]\"\n",
    "result = re.search(regex, log)\n",
    "print(result[1])"
   ]
  },
  {
   "cell_type": "markdown",
   "id": "5ee9c123",
   "metadata": {},
   "source": [
    "# Simple matching in Python"
   ]
  },
  {
   "cell_type": "code",
   "execution_count": 3,
   "id": "32e7c52c",
   "metadata": {},
   "outputs": [
    {
     "name": "stdout",
     "output_type": "stream",
     "text": [
      "<re.Match object; span=(2, 5), match='aza'>\n"
     ]
    }
   ],
   "source": [
    "import re\n",
    "result = re.search(r\"aza\", \"plaza\")\n",
    "print(result)"
   ]
  },
  {
   "cell_type": "code",
   "execution_count": 4,
   "id": "fa49d14d",
   "metadata": {},
   "outputs": [
    {
     "name": "stdout",
     "output_type": "stream",
     "text": [
      "<re.Match object; span=(1, 4), match='aza'>\n"
     ]
    }
   ],
   "source": [
    "result = re.search(r\"aza\", \"bazaar\")\n",
    "print(result)"
   ]
  },
  {
   "cell_type": "code",
   "execution_count": 5,
   "id": "632888a2",
   "metadata": {},
   "outputs": [
    {
     "name": "stdout",
     "output_type": "stream",
     "text": [
      "None\n"
     ]
    }
   ],
   "source": [
    "result = re.search(r\"aza\", \"maze\")\n",
    "print(result)"
   ]
  },
  {
   "cell_type": "code",
   "execution_count": 6,
   "id": "591df010",
   "metadata": {},
   "outputs": [
    {
     "name": "stdout",
     "output_type": "stream",
     "text": [
      "<re.Match object; span=(0, 1), match='x'>\n"
     ]
    }
   ],
   "source": [
    "print(re.search(r\"^x\", \"xenon\"))"
   ]
  },
  {
   "cell_type": "code",
   "execution_count": 7,
   "id": "1b4fb868",
   "metadata": {},
   "outputs": [
    {
     "name": "stdout",
     "output_type": "stream",
     "text": [
      "<re.Match object; span=(0, 4), match='peng'>\n"
     ]
    }
   ],
   "source": [
    "print(re.search(r\"p.ng\", \"penguin\"))"
   ]
  },
  {
   "cell_type": "code",
   "execution_count": 8,
   "id": "e9f048a2",
   "metadata": {},
   "outputs": [
    {
     "name": "stdout",
     "output_type": "stream",
     "text": [
      "<re.Match object; span=(0, 4), match='pang'>\n"
     ]
    }
   ],
   "source": [
    "print(re.search(r\"p.ng\", \"panguin\"))"
   ]
  },
  {
   "cell_type": "code",
   "execution_count": 9,
   "id": "b3eca39b",
   "metadata": {},
   "outputs": [
    {
     "name": "stdout",
     "output_type": "stream",
     "text": [
      "<re.Match object; span=(4, 8), match='ping'>\n"
     ]
    }
   ],
   "source": [
    "print(re.search(r\"p.ng\", \"clapping\"))"
   ]
  },
  {
   "cell_type": "code",
   "execution_count": 10,
   "id": "ae3a0588",
   "metadata": {},
   "outputs": [
    {
     "name": "stdout",
     "output_type": "stream",
     "text": [
      "<re.Match object; span=(1, 5), match='pong'>\n"
     ]
    }
   ],
   "source": [
    "print(re.search(r\"p.ng\", \"sponge\"))"
   ]
  },
  {
   "cell_type": "markdown",
   "id": "aac95f19",
   "metadata": {},
   "source": [
    "# Ignorecase"
   ]
  },
  {
   "cell_type": "code",
   "execution_count": 11,
   "id": "0a165d35",
   "metadata": {},
   "outputs": [
    {
     "name": "stdout",
     "output_type": "stream",
     "text": [
      "<re.Match object; span=(0, 4), match='Pang'>\n"
     ]
    }
   ],
   "source": [
    "print(re.search(r\"p.ng\", \"Pangaea\", re.IGNORECASE))"
   ]
  },
  {
   "cell_type": "markdown",
   "id": "f6bf04dc",
   "metadata": {},
   "source": [
    "# Wildcard and character classes"
   ]
  },
  {
   "cell_type": "code",
   "execution_count": 12,
   "id": "75309e9a",
   "metadata": {},
   "outputs": [
    {
     "name": "stdout",
     "output_type": "stream",
     "text": [
      "<re.Match object; span=(0, 6), match='Python'>\n"
     ]
    }
   ],
   "source": [
    "# Searching by [] bracket. To find P or p in starting point of the string\n",
    "print(re.search(r\"[Pp]ython\", \"Python\"))"
   ]
  },
  {
   "cell_type": "code",
   "execution_count": 13,
   "id": "cf92fa94",
   "metadata": {},
   "outputs": [
    {
     "name": "stdout",
     "output_type": "stream",
     "text": [
      "<re.Match object; span=(0, 6), match='python'>\n"
     ]
    }
   ],
   "source": [
    "print(re.search(r\"[Pp]ython\", \"python\"))"
   ]
  },
  {
   "cell_type": "code",
   "execution_count": 14,
   "id": "84205dbb",
   "metadata": {},
   "outputs": [
    {
     "name": "stdout",
     "output_type": "stream",
     "text": [
      "<re.Match object; span=(18, 22), match='hway'>\n"
     ]
    }
   ],
   "source": [
    "# Searching a range of characters\n",
    "print(re.search(r\"[a-z]way\", \"The end of the Highway\"))"
   ]
  },
  {
   "cell_type": "code",
   "execution_count": 15,
   "id": "9edb273e",
   "metadata": {},
   "outputs": [
    {
     "name": "stdout",
     "output_type": "stream",
     "text": [
      "None\n"
     ]
    }
   ],
   "source": [
    "print(re.search(r\"[a-z]way\", \"What a way to go\"))"
   ]
  },
  {
   "cell_type": "code",
   "execution_count": 16,
   "id": "981d8bc3",
   "metadata": {},
   "outputs": [
    {
     "name": "stdout",
     "output_type": "stream",
     "text": [
      "<re.Match object; span=(0, 6), match='cloudy'>\n"
     ]
    }
   ],
   "source": [
    "# We can combine multiple condition in square bracket for advanced search\n",
    "print(re.search(r\"cloud[a-zA-Z0-9]\", \"cloudy\"))"
   ]
  },
  {
   "cell_type": "code",
   "execution_count": 17,
   "id": "595c1e76",
   "metadata": {},
   "outputs": [
    {
     "name": "stdout",
     "output_type": "stream",
     "text": [
      "<re.Match object; span=(0, 6), match='cloud9'>\n"
     ]
    }
   ],
   "source": [
    "print(re.search(r\"cloud[a-zA-Z0-9]\", \"cloud9\"))"
   ]
  },
  {
   "cell_type": "code",
   "execution_count": 18,
   "id": "a21ec01a",
   "metadata": {},
   "outputs": [
    {
     "name": "stdout",
     "output_type": "stream",
     "text": [
      "<re.Match object; span=(4, 5), match=' '>\n"
     ]
    }
   ],
   "source": [
    "# This will return the list of characters we don't want to match\n",
    "print(re.search(r\"[^a-zA-Z]\", \"This is a sentence with spaces.\"))"
   ]
  },
  {
   "cell_type": "code",
   "execution_count": 19,
   "id": "a2f290a7",
   "metadata": {},
   "outputs": [
    {
     "name": "stdout",
     "output_type": "stream",
     "text": [
      "<re.Match object; span=(30, 31), match='.'>\n"
     ]
    }
   ],
   "source": [
    "print(re.search(r\"[^a-zA-Z ]\", \"This is a sentence with spaces.\"))"
   ]
  },
  {
   "cell_type": "code",
   "execution_count": 20,
   "id": "a609879c",
   "metadata": {},
   "outputs": [
    {
     "name": "stdout",
     "output_type": "stream",
     "text": [
      "None\n"
     ]
    }
   ],
   "source": [
    "print(re.search(r\"[^a-zA-Z .]\", \"This is a sentence with spaces.\"))"
   ]
  },
  {
   "cell_type": "code",
   "execution_count": 21,
   "id": "4337be20",
   "metadata": {},
   "outputs": [
    {
     "name": "stdout",
     "output_type": "stream",
     "text": [
      "<re.Match object; span=(7, 10), match='cat'>\n"
     ]
    }
   ],
   "source": [
    "print(re.search(r\"cat|dog\", \"I like cats.\"))"
   ]
  },
  {
   "cell_type": "code",
   "execution_count": 22,
   "id": "20e96971",
   "metadata": {},
   "outputs": [
    {
     "name": "stdout",
     "output_type": "stream",
     "text": [
      "<re.Match object; span=(7, 10), match='dog'>\n"
     ]
    }
   ],
   "source": [
    "print(re.search(r\"cat|dog\", \"I like dogs.\"))"
   ]
  },
  {
   "cell_type": "code",
   "execution_count": 23,
   "id": "f985eae2",
   "metadata": {},
   "outputs": [
    {
     "name": "stdout",
     "output_type": "stream",
     "text": [
      "<re.Match object; span=(12, 15), match='dog'>\n"
     ]
    }
   ],
   "source": [
    "print(re.search(r\"cat|dog\", \"I like both dogs and cats.\"))"
   ]
  },
  {
   "cell_type": "code",
   "execution_count": 24,
   "id": "f247fc4d",
   "metadata": {},
   "outputs": [
    {
     "name": "stdout",
     "output_type": "stream",
     "text": [
      "['dog', 'cat']\n"
     ]
    }
   ],
   "source": [
    "print(re.findall(r\"cat|dog\", \"I like both dogs and cats\"))"
   ]
  },
  {
   "cell_type": "markdown",
   "id": "ddff0f7d",
   "metadata": {},
   "source": [
    "# Repitition Qualifiers"
   ]
  },
  {
   "cell_type": "code",
   "execution_count": 25,
   "id": "b764b6d2",
   "metadata": {},
   "outputs": [
    {
     "name": "stdout",
     "output_type": "stream",
     "text": [
      "<re.Match object; span=(0, 9), match='Pygmalion'>\n"
     ]
    }
   ],
   "source": [
    "print(re.search(r\"Py.*n\", \"Pygmalion\"))"
   ]
  },
  {
   "cell_type": "code",
   "execution_count": 26,
   "id": "d33e3cda",
   "metadata": {},
   "outputs": [
    {
     "name": "stdout",
     "output_type": "stream",
     "text": [
      "<re.Match object; span=(0, 17), match='Python Programmin'>\n"
     ]
    }
   ],
   "source": [
    "print(re.search(r\"Py.*n\", \"Python Programming\"))"
   ]
  },
  {
   "cell_type": "code",
   "execution_count": 27,
   "id": "3e48b7e5",
   "metadata": {},
   "outputs": [
    {
     "name": "stdout",
     "output_type": "stream",
     "text": [
      "<re.Match object; span=(0, 6), match='Python'>\n"
     ]
    }
   ],
   "source": [
    "print(re.search(r\"Py[a-z]*n\", \"Python Programming\"))"
   ]
  },
  {
   "cell_type": "code",
   "execution_count": 28,
   "id": "6f3c5e3d",
   "metadata": {},
   "outputs": [
    {
     "name": "stdout",
     "output_type": "stream",
     "text": [
      "<re.Match object; span=(0, 18), match='Programming is fun'>\n"
     ]
    }
   ],
   "source": [
    "print(re.search(r\"P.*n\", \"Programming is fun\"))"
   ]
  },
  {
   "cell_type": "code",
   "execution_count": 29,
   "id": "ea54f84b",
   "metadata": {},
   "outputs": [
    {
     "name": "stdout",
     "output_type": "stream",
     "text": [
      "<re.Match object; span=(0, 9), match='Pygmolian'>\n"
     ]
    }
   ],
   "source": [
    "print(re.search(r\"Py.*n\", \"Pygmolian\"))"
   ]
  },
  {
   "cell_type": "code",
   "execution_count": 30,
   "id": "28be0bd6",
   "metadata": {},
   "outputs": [
    {
     "name": "stdout",
     "output_type": "stream",
     "text": [
      "<re.Match object; span=(0, 17), match='Python Programmin'>\n"
     ]
    }
   ],
   "source": [
    "print(re.search(r\"Py.*n\", \"Python Programming\"))"
   ]
  },
  {
   "cell_type": "code",
   "execution_count": 31,
   "id": "1468e9f1",
   "metadata": {},
   "outputs": [
    {
     "name": "stdout",
     "output_type": "stream",
     "text": [
      "<re.Match object; span=(0, 6), match='Python'>\n"
     ]
    }
   ],
   "source": [
    "print(re.search(r\"Py[a-z]*n\", \"Python Programming\"))"
   ]
  },
  {
   "cell_type": "code",
   "execution_count": 32,
   "id": "8504f5ef",
   "metadata": {},
   "outputs": [
    {
     "name": "stdout",
     "output_type": "stream",
     "text": [
      "<re.Match object; span=(0, 3), match='Pyn'>\n"
     ]
    }
   ],
   "source": [
    "print(re.search(r\"Py[a-z]*n\", \"Pyn\"))"
   ]
  },
  {
   "cell_type": "code",
   "execution_count": 33,
   "id": "fb466263",
   "metadata": {},
   "outputs": [
    {
     "name": "stdout",
     "output_type": "stream",
     "text": [
      "<re.Match object; span=(1, 3), match='ol'>\n"
     ]
    }
   ],
   "source": [
    "# Using + operator (+ operator is used to match one or more occurence of the character before it)\n",
    "print(re.search(r\"o+l+\", \"goldfish\"))"
   ]
  },
  {
   "cell_type": "code",
   "execution_count": 34,
   "id": "04bdc886",
   "metadata": {},
   "outputs": [
    {
     "name": "stdout",
     "output_type": "stream",
     "text": [
      "<re.Match object; span=(1, 5), match='ooll'>\n"
     ]
    }
   ],
   "source": [
    "print(re.search(r\"o+l+\", \"woolly\"))"
   ]
  },
  {
   "cell_type": "code",
   "execution_count": 35,
   "id": "1944f928",
   "metadata": {},
   "outputs": [
    {
     "name": "stdout",
     "output_type": "stream",
     "text": [
      "None\n"
     ]
    }
   ],
   "source": [
    "print(re.search(r\"o+l+\", \"boil\"))"
   ]
  },
  {
   "cell_type": "code",
   "execution_count": 36,
   "id": "c49000e5",
   "metadata": {},
   "outputs": [
    {
     "name": "stdout",
     "output_type": "stream",
     "text": [
      "<re.Match object; span=(3, 7), match='each'>\n"
     ]
    }
   ],
   "source": [
    "# Using ? operator\n",
    "print(re.search(r\"p?each\", \"To each their own\"))"
   ]
  },
  {
   "cell_type": "code",
   "execution_count": 37,
   "id": "9c2ac7f2",
   "metadata": {},
   "outputs": [
    {
     "name": "stdout",
     "output_type": "stream",
     "text": [
      "<re.Match object; span=(7, 12), match='peach'>\n"
     ]
    }
   ],
   "source": [
    "print(re.search(r\"p?each\", \"I like peaches\"))"
   ]
  },
  {
   "cell_type": "markdown",
   "id": "b6f58a90",
   "metadata": {},
   "source": [
    "# Escaping characters"
   ]
  },
  {
   "cell_type": "code",
   "execution_count": 41,
   "id": "30d34f1d",
   "metadata": {},
   "outputs": [
    {
     "name": "stdout",
     "output_type": "stream",
     "text": [
      "<re.Match object; span=(2, 6), match='lcom'>\n"
     ]
    }
   ],
   "source": [
    "print(re.search(r\".com\", \"Welcome\"))"
   ]
  },
  {
   "cell_type": "code",
   "execution_count": 47,
   "id": "cb40dc14",
   "metadata": {},
   "outputs": [
    {
     "name": "stdout",
     "output_type": "stream",
     "text": [
      "None\n"
     ]
    }
   ],
   "source": [
    "# Backslash(/) is used to escape characters\n",
    "print(re.search(r\"\\.com\", \"Welcome\"))"
   ]
  },
  {
   "cell_type": "code",
   "execution_count": 48,
   "id": "9f2ceda8",
   "metadata": {},
   "outputs": [
    {
     "name": "stdout",
     "output_type": "stream",
     "text": [
      "<re.Match object; span=(8, 12), match='.com'>\n"
     ]
    }
   ],
   "source": [
    "print(re.search(r\"\\.com\", \"mydomain.com\"))"
   ]
  },
  {
   "cell_type": "code",
   "execution_count": 52,
   "id": "cf88b23d",
   "metadata": {},
   "outputs": [
    {
     "name": "stdout",
     "output_type": "stream",
     "text": [
      "<re.Match object; span=(1, 5), match='.ssd'>\n"
     ]
    }
   ],
   "source": [
    "print(re.search(r\"\\.ssd\", \"\\.ssd\"))"
   ]
  },
  {
   "cell_type": "code",
   "execution_count": 55,
   "id": "7c045283",
   "metadata": {},
   "outputs": [
    {
     "name": "stdout",
     "output_type": "stream",
     "text": [
      "<re.Match object; span=(0, 4), match='This'>\n"
     ]
    }
   ],
   "source": [
    "# Using \\w to match any alphanumeric characters including letters, numbers, and underscores\n",
    "print(re.search(r\"\\w*\", \"This is an example.\"))"
   ]
  },
  {
   "cell_type": "code",
   "execution_count": 56,
   "id": "771ad235",
   "metadata": {},
   "outputs": [
    {
     "name": "stdout",
     "output_type": "stream",
     "text": [
      "<re.Match object; span=(0, 27), match='And_this_is_another_example'>\n"
     ]
    }
   ],
   "source": [
    "print(re.search(r\"\\w*\", \"And_this_is_another_example\"))"
   ]
  },
  {
   "cell_type": "code",
   "execution_count": 61,
   "id": "de8bbfba",
   "metadata": {},
   "outputs": [
    {
     "name": "stdout",
     "output_type": "stream",
     "text": [
      "<re.Match object; span=(0, 0), match=''>\n"
     ]
    }
   ],
   "source": [
    "# Using \\d to match digits\n",
    "print(re.search(\"\\d*\", \"This is an example : 098456\"))"
   ]
  },
  {
   "cell_type": "markdown",
   "id": "f0ad32ff",
   "metadata": {},
   "source": [
    "# Regular Expression in Action"
   ]
  },
  {
   "cell_type": "code",
   "execution_count": 63,
   "id": "696d7f05",
   "metadata": {},
   "outputs": [
    {
     "name": "stdout",
     "output_type": "stream",
     "text": [
      "<re.Match object; span=(0, 9), match='Argentina'>\n"
     ]
    }
   ],
   "source": [
    "print(re.search(r\"A.*a\", \"Argentina\"))"
   ]
  },
  {
   "cell_type": "code",
   "execution_count": 64,
   "id": "c09c01d7",
   "metadata": {},
   "outputs": [
    {
     "name": "stdout",
     "output_type": "stream",
     "text": [
      "<re.Match object; span=(0, 9), match='Azerbaiza'>\n"
     ]
    }
   ],
   "source": [
    "print(re.search(r\"A.*a\", \"Azerbaizan\"))"
   ]
  },
  {
   "cell_type": "code",
   "execution_count": 65,
   "id": "ed13f11b",
   "metadata": {},
   "outputs": [
    {
     "name": "stdout",
     "output_type": "stream",
     "text": [
      "None\n"
     ]
    }
   ],
   "source": [
    "# We can search exactly by the help of begining(^) and endline($) character\n",
    "\n",
    "print(re.search(r\"^A.*a$\", \"Azerbaijan\"))"
   ]
  },
  {
   "cell_type": "code",
   "execution_count": 66,
   "id": "074878e7",
   "metadata": {},
   "outputs": [
    {
     "name": "stdout",
     "output_type": "stream",
     "text": [
      "<re.Match object; span=(0, 7), match='America'>\n"
     ]
    }
   ],
   "source": [
    "print(re.search(r\"^A.*a$\", \"America\"))"
   ]
  },
  {
   "cell_type": "markdown",
   "id": "3d9c868c",
   "metadata": {},
   "source": [
    "### Validation Pattern"
   ]
  },
  {
   "cell_type": "code",
   "execution_count": 83,
   "id": "008af0c8",
   "metadata": {},
   "outputs": [
    {
     "name": "stdout",
     "output_type": "stream",
     "text": [
      "<re.Match object; span=(0, 30), match='_this_is_a_valid_variable_name'>\n"
     ]
    }
   ],
   "source": [
    "pattern = r\"^[a-zA-Z_][a-zA-Z0-9_]*$\"\n",
    "print(re.search(pattern, \"_this_is_a_valid_variable_name\"))"
   ]
  },
  {
   "cell_type": "code",
   "execution_count": 84,
   "id": "8d0d547a",
   "metadata": {},
   "outputs": [
    {
     "name": "stdout",
     "output_type": "stream",
     "text": [
      "None\n"
     ]
    }
   ],
   "source": [
    "print(re.search(pattern, \"this isn't a valid variable name\"))"
   ]
  },
  {
   "cell_type": "code",
   "execution_count": 86,
   "id": "6d45af97",
   "metadata": {},
   "outputs": [
    {
     "name": "stdout",
     "output_type": "stream",
     "text": [
      "<re.Match object; span=(0, 12), match='my_variable1'>\n"
     ]
    }
   ],
   "source": [
    "print(re.search(pattern, \"my_variable1\"))"
   ]
  },
  {
   "cell_type": "code",
   "execution_count": 87,
   "id": "754ab78b",
   "metadata": {},
   "outputs": [
    {
     "name": "stdout",
     "output_type": "stream",
     "text": [
      "None\n"
     ]
    }
   ],
   "source": [
    "print(re.search(pattern, \"2my_variable1\"))"
   ]
  },
  {
   "cell_type": "code",
   "execution_count": null,
   "id": "53cc6bae",
   "metadata": {},
   "outputs": [],
   "source": []
  }
 ],
 "metadata": {
  "kernelspec": {
   "display_name": "Python 3 (ipykernel)",
   "language": "python",
   "name": "python3"
  },
  "language_info": {
   "codemirror_mode": {
    "name": "ipython",
    "version": 3
   },
   "file_extension": ".py",
   "mimetype": "text/x-python",
   "name": "python",
   "nbconvert_exporter": "python",
   "pygments_lexer": "ipython3",
   "version": "3.10.2"
  }
 },
 "nbformat": 4,
 "nbformat_minor": 5
}
