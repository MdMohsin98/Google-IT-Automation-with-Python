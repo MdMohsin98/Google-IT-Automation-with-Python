{
 "cells": [
  {
   "cell_type": "markdown",
   "id": "aa8b2c0e",
   "metadata": {},
   "source": [
    "# Opening a file"
   ]
  },
  {
   "cell_type": "code",
   "execution_count": 1,
   "id": "32ea69b1",
   "metadata": {},
   "outputs": [],
   "source": [
    "file = open('C:\\\\Users\\\\Dell\\\\joke.txt')"
   ]
  },
  {
   "cell_type": "code",
   "execution_count": 3,
   "id": "71ab4966",
   "metadata": {},
   "outputs": [
    {
     "data": {
      "text/plain": [
       "'Teacher : Why are you late ?\\n'"
      ]
     },
     "execution_count": 3,
     "metadata": {},
     "output_type": "execute_result"
    }
   ],
   "source": [
    "file.readline()"
   ]
  },
  {
   "cell_type": "code",
   "execution_count": 4,
   "id": "3d30d0af",
   "metadata": {},
   "outputs": [
    {
     "data": {
      "text/plain": [
       "'Raghav : Because of sign\\nTeacher : Sign?\\nRaghav : There was written \"Go Slowly\" on a sign board.'"
      ]
     },
     "execution_count": 4,
     "metadata": {},
     "output_type": "execute_result"
    }
   ],
   "source": [
    "file.read()"
   ]
  },
  {
   "cell_type": "code",
   "execution_count": 6,
   "id": "08aa89fa",
   "metadata": {},
   "outputs": [
    {
     "name": "stdout",
     "output_type": "stream",
     "text": [
      "Teacher : Why are you late ?\n",
      "\n"
     ]
    }
   ],
   "source": [
    "with open(\"C:\\\\Users\\\\Dell\\\\joke.txt\") as file:\n",
    "    print(file.readline())"
   ]
  },
  {
   "cell_type": "code",
   "execution_count": 10,
   "id": "d049fe17",
   "metadata": {},
   "outputs": [
    {
     "name": "stdout",
     "output_type": "stream",
     "text": [
      "Teacher : Why are you late ?\n",
      "\n",
      "Raghav : Because of sign\n",
      "Teacher : Sign?\n",
      "Raghav : There was written \"Go Slowly\" on a sign board.\n"
     ]
    }
   ],
   "source": [
    "with open(\"C:\\\\Users\\\\Dell\\\\joke.txt\") as file:\n",
    "    print(file.readline())\n",
    "    print(file.read())"
   ]
  },
  {
   "cell_type": "markdown",
   "id": "48354282",
   "metadata": {},
   "source": [
    "# Iterating through files"
   ]
  },
  {
   "cell_type": "code",
   "execution_count": 11,
   "id": "b2523c35",
   "metadata": {},
   "outputs": [
    {
     "name": "stdout",
     "output_type": "stream",
     "text": [
      "TEACHER : WHY ARE YOU LATE ?\n",
      "\n",
      "RAGHAV : BECAUSE OF SIGN\n",
      "\n",
      "TEACHER : SIGN?\n",
      "\n",
      "RAGHAV : THERE WAS WRITTEN \"GO SLOWLY\" ON A SIGN BOARD.\n"
     ]
    }
   ],
   "source": [
    "with open(\"C:\\\\Users\\\\Dell\\\\joke.txt\") as file:\n",
    "    for line in file:\n",
    "        print(line.upper())"
   ]
  },
  {
   "cell_type": "code",
   "execution_count": 12,
   "id": "95b8509d",
   "metadata": {},
   "outputs": [
    {
     "name": "stdout",
     "output_type": "stream",
     "text": [
      "TEACHER : WHY ARE YOU LATE ?\n",
      "RAGHAV : BECAUSE OF SIGN\n",
      "TEACHER : SIGN?\n",
      "RAGHAV : THERE WAS WRITTEN \"GO SLOWLY\" ON A SIGN BOARD.\n"
     ]
    }
   ],
   "source": [
    "# Removing empty lines between the paragraph\n",
    "\n",
    "with open(\"C:\\\\Users\\\\Dell\\\\joke.txt\") as file:\n",
    "    for line in file:\n",
    "        print(line.upper().strip())"
   ]
  },
  {
   "cell_type": "code",
   "execution_count": 18,
   "id": "2af88a47",
   "metadata": {},
   "outputs": [
    {
     "name": "stdout",
     "output_type": "stream",
     "text": [
      "['Raghav : Because of sign\\n', 'Raghav : There was written \"Go Slowly\" on a sign board.', 'Teacher : Sign?\\n', 'Teacher : Why are you late ?\\n']\n"
     ]
    }
   ],
   "source": [
    "file = open(\"C:\\\\Users\\\\Dell\\\\joke.txt\")\n",
    "lines = file.readlines()\n",
    "file.close()\n",
    "lines.sort()\n",
    "print(lines)"
   ]
  },
  {
   "cell_type": "code",
   "execution_count": null,
   "id": "4b310175",
   "metadata": {},
   "outputs": [],
   "source": []
  },
  {
   "cell_type": "code",
   "execution_count": null,
   "id": "c71f7f6b",
   "metadata": {},
   "outputs": [],
   "source": []
  },
  {
   "cell_type": "code",
   "execution_count": null,
   "id": "45ac1fd8",
   "metadata": {},
   "outputs": [],
   "source": []
  },
  {
   "cell_type": "code",
   "execution_count": null,
   "id": "5e928db1",
   "metadata": {},
   "outputs": [],
   "source": []
  },
  {
   "cell_type": "code",
   "execution_count": null,
   "id": "5b1fcd36",
   "metadata": {},
   "outputs": [],
   "source": []
  },
  {
   "cell_type": "code",
   "execution_count": null,
   "id": "b1bed562",
   "metadata": {},
   "outputs": [],
   "source": []
  },
  {
   "cell_type": "code",
   "execution_count": null,
   "id": "724df240",
   "metadata": {},
   "outputs": [],
   "source": []
  }
 ],
 "metadata": {
  "kernelspec": {
   "display_name": "Python 3 (ipykernel)",
   "language": "python",
   "name": "python3"
  },
  "language_info": {
   "codemirror_mode": {
    "name": "ipython",
    "version": 3
   },
   "file_extension": ".py",
   "mimetype": "text/x-python",
   "name": "python",
   "nbconvert_exporter": "python",
   "pygments_lexer": "ipython3",
   "version": "3.10.2"
  }
 },
 "nbformat": 4,
 "nbformat_minor": 5
}
