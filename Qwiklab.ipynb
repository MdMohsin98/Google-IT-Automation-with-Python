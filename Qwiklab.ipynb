{
 "cells": [
  {
   "cell_type": "code",
   "execution_count": 6,
   "id": "77dd7b8c",
   "metadata": {},
   "outputs": [],
   "source": [
    "# Qwiklab : 2"
   ]
  },
  {
   "cell_type": "code",
   "execution_count": 5,
   "id": "3cdba379",
   "metadata": {},
   "outputs": [
    {
     "name": "stdout",
     "output_type": "stream",
     "text": [
      "[{'name': 'Sol Mansi', 'username': 'solm', 'department': 'IT Infrastructure'}, {'name': 'Lio Nelson', 'username': 'lion', 'department': 'User Experience Research'}, {'name': 'Charley Grey', 'username': 'greyc', 'department': 'Development'}]\n",
      "{'Development': 1, 'User Experience Research': 1, 'IT Infrastructure': 1}\n"
     ]
    }
   ],
   "source": [
    "#!/usr/bin/env python3\n",
    "import csv\n",
    "\n",
    "def read_employees(csv_file_location):\n",
    "        csv.register_dialect('empDialect', skipinitialspace = True, strict = True)\n",
    "        employee_file = csv.DictReader(open(csv_file_location), dialect = 'empDialect')\n",
    "        employee_list = []\n",
    "        for data in employee_file:\n",
    "                employee_list.append(data)\n",
    "        return employee_list\n",
    "\n",
    "employee_list = read_employees('by_department.csv')\n",
    "print(employee_list)\n",
    "\n",
    "def process_data(employee_list):\n",
    "        department_list = []\n",
    "        for employee_data in employee_list:\n",
    "                department_list.append(employee_data['department'])\n",
    "        department_data = {}\n",
    "        for department_name in set(department_list):\n",
    "                department_data[department_name] = department_list.count(department_name)\n",
    "        return department_data\n",
    "\n",
    "dictionary = process_data(employee_list)\n",
    "print(dictionary)\n",
    "\n",
    "def write_report(dictionary, report_file):\n",
    "         with open(report_file, \"w+\") as f:\n",
    "                for k in sorted(dictionary):\n",
    "                        f.write(str(k)+':'+str(dictionary[k])+'\\n')\n",
    "                f.close()\n",
    "\n",
    "write_report(dictionary, 'report.txt')\n"
   ]
  },
  {
   "cell_type": "code",
   "execution_count": null,
   "id": "b3c8420f",
   "metadata": {},
   "outputs": [],
   "source": []
  }
 ],
 "metadata": {
  "kernelspec": {
   "display_name": "Python 3 (ipykernel)",
   "language": "python",
   "name": "python3"
  },
  "language_info": {
   "codemirror_mode": {
    "name": "ipython",
    "version": 3
   },
   "file_extension": ".py",
   "mimetype": "text/x-python",
   "name": "python",
   "nbconvert_exporter": "python",
   "pygments_lexer": "ipython3",
   "version": "3.10.2"
  }
 },
 "nbformat": 4,
 "nbformat_minor": 5
}
