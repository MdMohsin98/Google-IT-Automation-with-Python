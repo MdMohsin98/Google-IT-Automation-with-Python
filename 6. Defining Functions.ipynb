{
 "cells": [
  {
   "cell_type": "code",
   "execution_count": 5,
   "id": "ee526dd1",
   "metadata": {},
   "outputs": [],
   "source": [
    "def greeting(name):\n",
    "    print(\"Welcome! \",name)"
   ]
  },
  {
   "cell_type": "code",
   "execution_count": 7,
   "id": "2ce6db42",
   "metadata": {},
   "outputs": [
    {
     "name": "stdout",
     "output_type": "stream",
     "text": [
      "Welcome!  Mohammad\n"
     ]
    }
   ],
   "source": [
    "greeting(\"Mohammad\")"
   ]
  },
  {
   "cell_type": "code",
   "execution_count": 11,
   "id": "3ef0dc2d",
   "metadata": {},
   "outputs": [],
   "source": [
    "def greetings(name, department):\n",
    "    print(\"Welcome, \"+name)\n",
    "    print(\"You are part of \" +department)"
   ]
  },
  {
   "cell_type": "code",
   "execution_count": 12,
   "id": "eaffeb36",
   "metadata": {},
   "outputs": [
    {
     "name": "stdout",
     "output_type": "stream",
     "text": [
      "Welcome, Mohammad\n",
      "You are part of Data Labelling\n"
     ]
    }
   ],
   "source": [
    "greetings(\"Mohammad\", \"Data Labelling\")"
   ]
  },
  {
   "cell_type": "code",
   "execution_count": 13,
   "id": "d24feda7",
   "metadata": {},
   "outputs": [
    {
     "name": "stdout",
     "output_type": "stream",
     "text": [
      "Welcome!  Mohammad\n"
     ]
    }
   ],
   "source": [
    "a = greeting(\"Mohammad\")"
   ]
  },
  {
   "cell_type": "code",
   "execution_count": 14,
   "id": "664a35e4",
   "metadata": {},
   "outputs": [
    {
     "name": "stdout",
     "output_type": "stream",
     "text": [
      "None\n"
     ]
    }
   ],
   "source": [
    "print(a)"
   ]
  },
  {
   "cell_type": "code",
   "execution_count": 15,
   "id": "aaa16965",
   "metadata": {},
   "outputs": [],
   "source": [
    "def greeting_1(name):\n",
    "    return \"Welcome, \" +name"
   ]
  },
  {
   "cell_type": "code",
   "execution_count": 16,
   "id": "ead72dfc",
   "metadata": {},
   "outputs": [
    {
     "name": "stdout",
     "output_type": "stream",
     "text": [
      "Welcome!  Mohammad\n"
     ]
    }
   ],
   "source": [
    "a = greeting(\"Mohammad\")"
   ]
  },
  {
   "cell_type": "code",
   "execution_count": 17,
   "id": "a39629be",
   "metadata": {},
   "outputs": [
    {
     "name": "stdout",
     "output_type": "stream",
     "text": [
      "None\n"
     ]
    }
   ],
   "source": [
    "print(a)"
   ]
  },
  {
   "cell_type": "code",
   "execution_count": 19,
   "id": "862df9bd",
   "metadata": {},
   "outputs": [],
   "source": [
    "def lucky_number(name):\n",
    "    number = len(name) * 9\n",
    "    print(\"Hello \" +name+ \". Your lucky number is \" +str(number))"
   ]
  },
  {
   "cell_type": "code",
   "execution_count": 21,
   "id": "9323dc90",
   "metadata": {},
   "outputs": [
    {
     "name": "stdout",
     "output_type": "stream",
     "text": [
      "Hello Kay. Your lucky number is 27\n",
      "Hello Cameron. Your lucky number is 63\n"
     ]
    }
   ],
   "source": [
    "lucky_number(\"Kay\")\n",
    "lucky_number(\"Cameron\")"
   ]
  }
 ],
 "metadata": {
  "kernelspec": {
   "display_name": "Python 3 (ipykernel)",
   "language": "python",
   "name": "python3"
  },
  "language_info": {
   "codemirror_mode": {
    "name": "ipython",
    "version": 3
   },
   "file_extension": ".py",
   "mimetype": "text/x-python",
   "name": "python",
   "nbconvert_exporter": "python",
   "pygments_lexer": "ipython3",
   "version": "3.10.2"
  }
 },
 "nbformat": 4,
 "nbformat_minor": 5
}
