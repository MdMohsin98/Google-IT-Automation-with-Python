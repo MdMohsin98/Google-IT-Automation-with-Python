{
 "cells": [
  {
   "cell_type": "code",
   "execution_count": null,
   "id": "bad71399",
   "metadata": {},
   "outputs": [],
   "source": [
    "# File name : findJane.sh\n",
    "\n",
    "#!/bin/bash\n",
    "\n",
    "> oldFiles.txt\n",
    "\n",
    "files=$(grep \" jane \" ../data/list.txt | cut -d ' ' -f 3)\n",
    "\n",
    "for f in $files; do\n",
    "  if [ -e $HOME$f ]; then\n",
    "        echo $HOME$f >> oldFiles.txt\n",
    "  fi\n",
    "done\n"
   ]
  },
  {
   "cell_type": "code",
   "execution_count": null,
   "id": "305d8e15",
   "metadata": {},
   "outputs": [],
   "source": [
    "# File name: changeJane.py\n",
    "#!/usr/bin/env python3\n",
    "\n",
    "import sys\n",
    "import subprocess\n",
    "\n",
    "file = sys.argv[1]\n",
    "with open(file) as f:\n",
    "  for line in f.readlines():\n",
    "      source = line.strip()\n",
    "      destination = source.replace('jane', 'jdoe')\n",
    "      subprocess.run(['mv', source, destination])\n",
    "  f.close()\n"
   ]
  }
 ],
 "metadata": {
  "kernelspec": {
   "display_name": "Python 3 (ipykernel)",
   "language": "python",
   "name": "python3"
  },
  "language_info": {
   "codemirror_mode": {
    "name": "ipython",
    "version": 3
   },
   "file_extension": ".py",
   "mimetype": "text/x-python",
   "name": "python",
   "nbconvert_exporter": "python",
   "pygments_lexer": "ipython3",
   "version": "3.10.2"
  }
 },
 "nbformat": 4,
 "nbformat_minor": 5
}
