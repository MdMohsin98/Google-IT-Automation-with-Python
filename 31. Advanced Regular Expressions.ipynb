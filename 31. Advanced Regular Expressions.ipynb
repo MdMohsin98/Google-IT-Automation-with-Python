{
 "cells": [
  {
   "cell_type": "markdown",
   "id": "14d4d97e",
   "metadata": {},
   "source": [
    "# Capturing Groups"
   ]
  },
  {
   "cell_type": "code",
   "execution_count": 1,
   "id": "b1b36c01",
   "metadata": {},
   "outputs": [],
   "source": [
    "import re"
   ]
  },
  {
   "cell_type": "code",
   "execution_count": 2,
   "id": "3e018edc",
   "metadata": {
    "scrolled": true
   },
   "outputs": [],
   "source": [
    "result = re.search(r\"^(\\w*), (\\w*)$\", \"Lovelace, Ada\")"
   ]
  },
  {
   "cell_type": "code",
   "execution_count": 3,
   "id": "11f63367",
   "metadata": {},
   "outputs": [
    {
     "name": "stdout",
     "output_type": "stream",
     "text": [
      "<re.Match object; span=(0, 13), match='Lovelace, Ada'>\n"
     ]
    }
   ],
   "source": [
    "print(result)"
   ]
  },
  {
   "cell_type": "code",
   "execution_count": 4,
   "id": "5eb8509b",
   "metadata": {},
   "outputs": [
    {
     "name": "stdout",
     "output_type": "stream",
     "text": [
      "('Lovelace', 'Ada')\n"
     ]
    }
   ],
   "source": [
    "print(result.groups())"
   ]
  },
  {
   "cell_type": "code",
   "execution_count": 5,
   "id": "285ac092",
   "metadata": {},
   "outputs": [
    {
     "name": "stdout",
     "output_type": "stream",
     "text": [
      "Lovelace, Ada\n"
     ]
    }
   ],
   "source": [
    "print(result[0])"
   ]
  },
  {
   "cell_type": "code",
   "execution_count": 6,
   "id": "ae592086",
   "metadata": {},
   "outputs": [
    {
     "name": "stdout",
     "output_type": "stream",
     "text": [
      "Lovelace\n"
     ]
    }
   ],
   "source": [
    "print(result[1])"
   ]
  },
  {
   "cell_type": "code",
   "execution_count": 7,
   "id": "a5533c73",
   "metadata": {},
   "outputs": [
    {
     "name": "stdout",
     "output_type": "stream",
     "text": [
      "Ada\n"
     ]
    }
   ],
   "source": [
    "print(result[2])"
   ]
  },
  {
   "cell_type": "code",
   "execution_count": 8,
   "id": "5d8ef5b5",
   "metadata": {},
   "outputs": [
    {
     "ename": "IndexError",
     "evalue": "no such group",
     "output_type": "error",
     "traceback": [
      "\u001b[1;31m---------------------------------------------------------------------------\u001b[0m",
      "\u001b[1;31mIndexError\u001b[0m                                Traceback (most recent call last)",
      "Input \u001b[1;32mIn [8]\u001b[0m, in \u001b[0;36m<module>\u001b[1;34m\u001b[0m\n\u001b[1;32m----> 1\u001b[0m \u001b[38;5;28mprint\u001b[39m(\u001b[43mresult\u001b[49m\u001b[43m[\u001b[49m\u001b[38;5;241;43m3\u001b[39;49m\u001b[43m]\u001b[49m)\n",
      "\u001b[1;31mIndexError\u001b[0m: no such group"
     ]
    }
   ],
   "source": [
    "print(result[3])"
   ]
  },
  {
   "cell_type": "code",
   "execution_count": 9,
   "id": "b0c37695",
   "metadata": {
    "slideshow": {
     "slide_type": "-"
    }
   },
   "outputs": [
    {
     "data": {
      "text/plain": [
       "'Ada Lovelace'"
      ]
     },
     "execution_count": 9,
     "metadata": {},
     "output_type": "execute_result"
    }
   ],
   "source": [
    "'{} {}'.format(result[2], result[1])"
   ]
  },
  {
   "cell_type": "code",
   "execution_count": 10,
   "id": "8f9704b8",
   "metadata": {},
   "outputs": [],
   "source": [
    "def rearrange_name(name):\n",
    "    result = re.search(r\"^(\\w.*), (\\w.*)$\", name)\n",
    "    if result is None:\n",
    "        return name\n",
    "    return \"{} {}\".format(result[2], result[1])"
   ]
  },
  {
   "cell_type": "code",
   "execution_count": 11,
   "id": "778bd642",
   "metadata": {},
   "outputs": [
    {
     "data": {
      "text/plain": [
       "'Ada Lovelace'"
      ]
     },
     "execution_count": 11,
     "metadata": {},
     "output_type": "execute_result"
    }
   ],
   "source": [
    "rearrange_name(\"Lovelace, Ada\")"
   ]
  },
  {
   "cell_type": "code",
   "execution_count": 12,
   "id": "dd1a19d8",
   "metadata": {},
   "outputs": [
    {
     "data": {
      "text/plain": [
       "'Denis Richie'"
      ]
     },
     "execution_count": 12,
     "metadata": {},
     "output_type": "execute_result"
    }
   ],
   "source": [
    "rearrange_name(\"Richie, Denis\")"
   ]
  },
  {
   "cell_type": "code",
   "execution_count": 13,
   "id": "014ea154",
   "metadata": {},
   "outputs": [
    {
     "data": {
      "text/plain": [
       "'Grace M. Hopper'"
      ]
     },
     "execution_count": 13,
     "metadata": {},
     "output_type": "execute_result"
    }
   ],
   "source": [
    "rearrange_name(\"Hopper, Grace M.\")"
   ]
  },
  {
   "cell_type": "code",
   "execution_count": null,
   "id": "c1503b84",
   "metadata": {},
   "outputs": [],
   "source": []
  },
  {
   "cell_type": "markdown",
   "id": "6f137ff3",
   "metadata": {},
   "source": [
    "# More on Repitition Qualifiers"
   ]
  },
  {
   "cell_type": "code",
   "execution_count": 14,
   "id": "6dcdab1e",
   "metadata": {},
   "outputs": [
    {
     "name": "stdout",
     "output_type": "stream",
     "text": [
      "<re.Match object; span=(2, 7), match='ghost'>\n"
     ]
    }
   ],
   "source": [
    "# To match exactly five characters in a word we can write code as following\n",
    "\n",
    "print(re.search(r\"[a-zA-Z]{5}\", \"a ghost\"))"
   ]
  },
  {
   "cell_type": "code",
   "execution_count": 15,
   "id": "f1717e8a",
   "metadata": {},
   "outputs": [
    {
     "name": "stdout",
     "output_type": "stream",
     "text": [
      "<re.Match object; span=(3, 6), match='app'>\n"
     ]
    }
   ],
   "source": [
    "print(re.search(r\"[a-zA-Z]{3}\", \"an apple is in the garden\"))"
   ]
  },
  {
   "cell_type": "code",
   "execution_count": 16,
   "id": "a9e995df",
   "metadata": {},
   "outputs": [
    {
     "name": "stdout",
     "output_type": "stream",
     "text": [
      "<re.Match object; span=(2, 7), match='scary'>\n"
     ]
    }
   ],
   "source": [
    "print(re.search(r\"[a-zA-Z]{5}\", \"a scary ghost appeared\"))"
   ]
  },
  {
   "cell_type": "code",
   "execution_count": 17,
   "id": "5f65448c",
   "metadata": {},
   "outputs": [
    {
     "name": "stdout",
     "output_type": "stream",
     "text": [
      "['scary', 'ghost', 'appea']\n"
     ]
    }
   ],
   "source": [
    "print(re.findall(r\"[a-zA-Z]{5}\", \"a scary ghost appeared\"))"
   ]
  },
  {
   "cell_type": "markdown",
   "id": "97b6debd",
   "metadata": {},
   "source": [
    "#### To search exactly five letter words we use word boundary \\w in our regular expression "
   ]
  },
  {
   "cell_type": "code",
   "execution_count": 18,
   "id": "9912a532",
   "metadata": {},
   "outputs": [
    {
     "name": "stdout",
     "output_type": "stream",
     "text": [
      "['scary', 'ghost']\n"
     ]
    }
   ],
   "source": [
    "print(re.findall(r\"\\b[a-zA-Z]{5}\\b\", \"A scary ghost appeared\"))"
   ]
  },
  {
   "cell_type": "code",
   "execution_count": 19,
   "id": "b525b03e",
   "metadata": {},
   "outputs": [
    {
     "name": "stdout",
     "output_type": "stream",
     "text": [
      "['really', 'strawberri']\n"
     ]
    }
   ],
   "source": [
    "print(re.findall(r\"\\w{5,10}\", \"I really like strawberries\"))"
   ]
  },
  {
   "cell_type": "code",
   "execution_count": 20,
   "id": "48e9417f",
   "metadata": {},
   "outputs": [
    {
     "name": "stdout",
     "output_type": "stream",
     "text": [
      "['really', 'strawberries']\n"
     ]
    }
   ],
   "source": [
    "# Leaving empty string after comma means that there is no upper limit boundaries\n",
    "print(re.findall(r\"\\w{5,}\", \"I really like strawberries\"))"
   ]
  },
  {
   "cell_type": "code",
   "execution_count": 21,
   "id": "72711e44",
   "metadata": {},
   "outputs": [
    {
     "name": "stdout",
     "output_type": "stream",
     "text": [
      "<re.Match object; span=(14, 26), match='strawberries'>\n"
     ]
    }
   ],
   "source": [
    "# Leaving first parameter in curly bracket empty means there is no lower limit of the word length.\n",
    "print(re.search(r\"s\\w{,20}\", \"I really like strawberries\"))"
   ]
  },
  {
   "cell_type": "markdown",
   "id": "5d3642dc",
   "metadata": {},
   "source": [
    "# Extracting a PID Using Regexes"
   ]
  },
  {
   "cell_type": "code",
   "execution_count": 33,
   "id": "0d1121aa",
   "metadata": {},
   "outputs": [
    {
     "name": "stdout",
     "output_type": "stream",
     "text": [
      "12345\n"
     ]
    }
   ],
   "source": [
    "log = \"July 31 07:51:48 my computer bad_process[12345]: ERROR performing package upgrade\"\n",
    "regex = r\"\\[(\\d+)\\]\"\n",
    "result = re.search(regex, log)\n",
    "print(result[1])"
   ]
  },
  {
   "cell_type": "code",
   "execution_count": 34,
   "id": "5067918c",
   "metadata": {},
   "outputs": [
    {
     "name": "stdout",
     "output_type": "stream",
     "text": [
      "34567\n"
     ]
    }
   ],
   "source": [
    "result = re.search(regex, \"A completely different string that also has numbers [34567]\")\n",
    "print(result[1])"
   ]
  },
  {
   "cell_type": "code",
   "execution_count": 35,
   "id": "be4c82ed",
   "metadata": {},
   "outputs": [
    {
     "ename": "TypeError",
     "evalue": "'NoneType' object is not subscriptable",
     "output_type": "error",
     "traceback": [
      "\u001b[1;31m---------------------------------------------------------------------------\u001b[0m",
      "\u001b[1;31mTypeError\u001b[0m                                 Traceback (most recent call last)",
      "Input \u001b[1;32mIn [35]\u001b[0m, in \u001b[0;36m<module>\u001b[1;34m\u001b[0m\n\u001b[0;32m      1\u001b[0m result \u001b[38;5;241m=\u001b[39m re\u001b[38;5;241m.\u001b[39msearch(regex, \u001b[38;5;124m\"\u001b[39m\u001b[38;5;124m99 elephants in a [cage]\u001b[39m\u001b[38;5;124m\"\u001b[39m)\n\u001b[1;32m----> 2\u001b[0m \u001b[38;5;28mprint\u001b[39m(\u001b[43mresult\u001b[49m\u001b[43m[\u001b[49m\u001b[38;5;241;43m1\u001b[39;49m\u001b[43m]\u001b[49m)\n",
      "\u001b[1;31mTypeError\u001b[0m: 'NoneType' object is not subscriptable"
     ]
    }
   ],
   "source": [
    "result = re.search(regex, \"99 elephants in a [cage]\")\n",
    "print(result[1])"
   ]
  },
  {
   "cell_type": "markdown",
   "id": "bed5f588",
   "metadata": {},
   "source": [
    "######  To resolve this type of regex we define a function \"extract_pid\" "
   ]
  },
  {
   "cell_type": "code",
   "execution_count": 36,
   "id": "5388ba67",
   "metadata": {},
   "outputs": [],
   "source": [
    "def extract_pid(log_line):\n",
    "    regex = r\"\\[(\\d+)\\]\"\n",
    "    result = re.search(regex, log_line)\n",
    "    if result is None:\n",
    "        return \"\"\n",
    "    return result[1]"
   ]
  },
  {
   "cell_type": "code",
   "execution_count": 38,
   "id": "c4bf5100",
   "metadata": {},
   "outputs": [
    {
     "name": "stdout",
     "output_type": "stream",
     "text": [
      "12345\n"
     ]
    }
   ],
   "source": [
    "print(extract_pid(log))"
   ]
  },
  {
   "cell_type": "code",
   "execution_count": 39,
   "id": "db41d1d9",
   "metadata": {},
   "outputs": [
    {
     "name": "stdout",
     "output_type": "stream",
     "text": [
      "\n"
     ]
    }
   ],
   "source": [
    "print(extract_pid(\"99 elephants in a [cage]\"))"
   ]
  },
  {
   "cell_type": "code",
   "execution_count": null,
   "id": "393923e0",
   "metadata": {},
   "outputs": [],
   "source": []
  },
  {
   "cell_type": "code",
   "execution_count": 31,
   "id": "05cc40b2",
   "metadata": {},
   "outputs": [
    {
     "name": "stdout",
     "output_type": "stream",
     "text": [
      "cage\n"
     ]
    }
   ],
   "source": [
    "# To resolve this type of error we can also use \\w which matches letters, numbers and underscores\n",
    "regex = r\"\\[(\\w*)\\]\"\n",
    "result = re.search(regex, \"99 elephants in a [cage]\")\n",
    "print(result[1])"
   ]
  },
  {
   "cell_type": "markdown",
   "id": "75368ab2",
   "metadata": {},
   "source": [
    "# \"split\" function of RE module"
   ]
  },
  {
   "cell_type": "code",
   "execution_count": 41,
   "id": "913fbf48",
   "metadata": {},
   "outputs": [
    {
     "data": {
      "text/plain": [
       "['One Sentence', ' Another One', ' and the last One', '']"
      ]
     },
     "execution_count": 41,
     "metadata": {},
     "output_type": "execute_result"
    }
   ],
   "source": [
    "re.split(r\"[.?!]\", \"One Sentence. Another One? and the last One!\")"
   ]
  },
  {
   "cell_type": "code",
   "execution_count": 42,
   "id": "e9032efd",
   "metadata": {},
   "outputs": [
    {
     "data": {
      "text/plain": [
       "['One Sentence', '.', ' Another One', '?', ' and the last One', '!', '']"
      ]
     },
     "execution_count": 42,
     "metadata": {},
     "output_type": "execute_result"
    }
   ],
   "source": [
    "# For capturing groups\n",
    "re.split(r\"([.?!])\", \"One Sentence. Another One? and the last One!\")"
   ]
  },
  {
   "cell_type": "markdown",
   "id": "a112edd0",
   "metadata": {},
   "source": [
    "# \"sub\" function of RE module is used to replace string"
   ]
  },
  {
   "cell_type": "code",
   "execution_count": 43,
   "id": "12c8e5ee",
   "metadata": {},
   "outputs": [
    {
     "data": {
      "text/plain": [
       "'Recieved an email for [REDACTED]'"
      ]
     },
     "execution_count": 43,
     "metadata": {},
     "output_type": "execute_result"
    }
   ],
   "source": [
    "re.sub(r\"[\\w.%+-]+@[\\w.-]+\", \"[REDACTED]\", \"Recieved an email for go_nuts95@my.example.com\")"
   ]
  },
  {
   "cell_type": "code",
   "execution_count": 44,
   "id": "437ea608",
   "metadata": {},
   "outputs": [
    {
     "data": {
      "text/plain": [
       "'Ada Lovelace'"
      ]
     },
     "execution_count": 44,
     "metadata": {},
     "output_type": "execute_result"
    }
   ],
   "source": [
    "# Another example\n",
    "\n",
    "re.sub(r\"^([\\w .-]*), ([\\w .-]*)$\", r\"\\2 \\1\", \"Lovelace, Ada\")"
   ]
  },
  {
   "cell_type": "code",
   "execution_count": null,
   "id": "8b86a6cd",
   "metadata": {},
   "outputs": [],
   "source": []
  },
  {
   "cell_type": "code",
   "execution_count": null,
   "id": "4790428a",
   "metadata": {},
   "outputs": [],
   "source": []
  }
 ],
 "metadata": {
  "kernelspec": {
   "display_name": "Python 3 (ipykernel)",
   "language": "python",
   "name": "python3"
  },
  "language_info": {
   "codemirror_mode": {
    "name": "ipython",
    "version": 3
   },
   "file_extension": ".py",
   "mimetype": "text/x-python",
   "name": "python",
   "nbconvert_exporter": "python",
   "pygments_lexer": "ipython3",
   "version": "3.10.2"
  }
 },
 "nbformat": 4,
 "nbformat_minor": 5
}
