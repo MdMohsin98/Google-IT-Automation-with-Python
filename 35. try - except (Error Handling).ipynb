{
 "cells": [
  {
   "cell_type": "code",
   "execution_count": 4,
   "id": "7e909bcc",
   "metadata": {},
   "outputs": [],
   "source": [
    "def character_frequency(filename):\n",
    "    \"\"\" Counts the frequency of each character in the given file. \"\"\"\n",
    "    # First try to open the file\n",
    "    try:\n",
    "        f = open(filename)\n",
    "    except OSError:\n",
    "        return \"The file does not exist\"\n",
    "    \n",
    "    # Now process the file\n",
    "    characters = {}\n",
    "    for line in f:\n",
    "        for char in line:\n",
    "            characters[char] = characters.get(char, 0) + 1\n",
    "    f.close()\n",
    "    return characters"
   ]
  },
  {
   "cell_type": "code",
   "execution_count": 5,
   "id": "63e35247",
   "metadata": {},
   "outputs": [
    {
     "data": {
      "text/plain": [
       "'The file does not exist'"
      ]
     },
     "execution_count": 5,
     "metadata": {},
     "output_type": "execute_result"
    }
   ],
   "source": [
    "character_frequency(\"abc.txt\")"
   ]
  },
  {
   "cell_type": "code",
   "execution_count": null,
   "id": "f93f5026",
   "metadata": {},
   "outputs": [],
   "source": []
  }
 ],
 "metadata": {
  "kernelspec": {
   "display_name": "Python 3 (ipykernel)",
   "language": "python",
   "name": "python3"
  },
  "language_info": {
   "codemirror_mode": {
    "name": "ipython",
    "version": 3
   },
   "file_extension": ".py",
   "mimetype": "text/x-python",
   "name": "python",
   "nbconvert_exporter": "python",
   "pygments_lexer": "ipython3",
   "version": "3.10.2"
  }
 },
 "nbformat": 4,
 "nbformat_minor": 5
}
