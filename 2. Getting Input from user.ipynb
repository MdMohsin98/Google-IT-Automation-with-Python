{
 "cells": [
  {
   "cell_type": "code",
   "execution_count": 6,
   "id": "cef27e65",
   "metadata": {},
   "outputs": [
    {
     "name": "stdout",
     "output_type": "stream",
     "text": [
      "Enter Your Name : Mohammad\n",
      "Your Name is :  Mohammad\n"
     ]
    }
   ],
   "source": [
    "a= input(\"Enter Your Name : \")\n",
    "print(\"Your Name is : \" ,a)"
   ]
  },
  {
   "cell_type": "code",
   "execution_count": 3,
   "id": "93fb61c7",
   "metadata": {},
   "outputs": [
    {
     "name": "stdout",
     "output_type": "stream",
     "text": [
      "Hello Brook\n"
     ]
    }
   ],
   "source": [
    "name = \"Brook\"\n",
    "print(\"Hello \" +name)"
   ]
  },
  {
   "cell_type": "code",
   "execution_count": 4,
   "id": "fce0ea51",
   "metadata": {},
   "outputs": [
    {
     "name": "stdout",
     "output_type": "stream",
     "text": [
      "Hello Alex\n"
     ]
    }
   ],
   "source": [
    "name = \"Alex\"\n",
    "print(\"Hello \" +name)"
   ]
  },
  {
   "cell_type": "code",
   "execution_count": 1,
   "id": "23992783",
   "metadata": {},
   "outputs": [],
   "source": [
    "def greetings(name):\n",
    "    return \"Hello, \" + str(name)"
   ]
  },
  {
   "cell_type": "code",
   "execution_count": 3,
   "id": "b0122dcd",
   "metadata": {},
   "outputs": [
    {
     "data": {
      "text/plain": [
       "'Hello, Alex'"
      ]
     },
     "execution_count": 3,
     "metadata": {},
     "output_type": "execute_result"
    }
   ],
   "source": [
    "greetings(\"Alex\")"
   ]
  },
  {
   "cell_type": "code",
   "execution_count": 6,
   "id": "268c441f",
   "metadata": {},
   "outputs": [
    {
     "name": "stdout",
     "output_type": "stream",
     "text": [
      "Hello, 1\n",
      "Hello, 2\n",
      "Hello, 3\n",
      "Hello, 4\n",
      "Hello, 5\n",
      "Hello, 6\n",
      "Hello, 7\n",
      "Hello, 8\n",
      "Hello, 9\n",
      "Hello, 10\n"
     ]
    }
   ],
   "source": [
    "for a in range(10):\n",
    "    print(greetings(a+1))"
   ]
  },
  {
   "cell_type": "code",
   "execution_count": 3,
   "id": "cf23297a",
   "metadata": {},
   "outputs": [],
   "source": [
    "def user_input():\n",
    "    a = str(input(\"Please enter your name: \"))\n",
    "    return print(\"Hey, {}! You are welcome.\".format(a))"
   ]
  },
  {
   "cell_type": "code",
   "execution_count": 7,
   "id": "e0ffc78d",
   "metadata": {},
   "outputs": [
    {
     "name": "stdout",
     "output_type": "stream",
     "text": [
      "Please enter your name: mmm\n",
      "Hey, mmm! You are welcome.\n"
     ]
    }
   ],
   "source": [
    "user_input()"
   ]
  },
  {
   "cell_type": "code",
   "execution_count": 5,
   "id": "e49e19a4",
   "metadata": {},
   "outputs": [
    {
     "name": "stdout",
     "output_type": "stream",
     "text": [
      "Please enter your name: Mohammad\n",
      "Hey, Mohammad! You are welcome.\n",
      "Please enter your name: a\n",
      "Hey, a! You are welcome.\n",
      "Please enter your name: a\n",
      "Hey, a! You are welcome.\n",
      "Please enter your name: a\n",
      "Hey, a! You are welcome.\n",
      "Please enter your name: a\n",
      "Hey, a! You are welcome.\n",
      "Please enter your name: a\n",
      "Hey, a! You are welcome.\n",
      "Please enter your name: a\n",
      "Hey, a! You are welcome.\n",
      "Please enter your name: a\n",
      "Hey, a! You are welcome.\n",
      "Please enter your name: a\n",
      "Hey, a! You are welcome.\n",
      "Please enter your name: a\n",
      "Hey, a! You are welcome.\n"
     ]
    }
   ],
   "source": [
    "for a in range(10):\n",
    "    user_input()"
   ]
  },
  {
   "cell_type": "code",
   "execution_count": null,
   "id": "a7c3cda2",
   "metadata": {},
   "outputs": [],
   "source": []
  }
 ],
 "metadata": {
  "kernelspec": {
   "display_name": "Python 3 (ipykernel)",
   "language": "python",
   "name": "python3"
  },
  "language_info": {
   "codemirror_mode": {
    "name": "ipython",
    "version": 3
   },
   "file_extension": ".py",
   "mimetype": "text/x-python",
   "name": "python",
   "nbconvert_exporter": "python",
   "pygments_lexer": "ipython3",
   "version": "3.10.2"
  }
 },
 "nbformat": 4,
 "nbformat_minor": 5
}
