{
 "cells": [
  {
   "cell_type": "code",
   "execution_count": 1,
   "id": "1898ac83",
   "metadata": {},
   "outputs": [
    {
     "name": "stdout",
     "output_type": "stream",
     "text": [
      "[7, 14, 21, 28, 35, 42, 49, 56, 63, 70]\n"
     ]
    }
   ],
   "source": [
    "multiples = []\n",
    "for x in range(1,11):\n",
    "    multiples.append(x*7)\n",
    "print(multiples)"
   ]
  },
  {
   "cell_type": "code",
   "execution_count": 2,
   "id": "cd6ba30c",
   "metadata": {},
   "outputs": [],
   "source": [
    "multiples = [x*8 for x in range(1,11)]"
   ]
  },
  {
   "cell_type": "code",
   "execution_count": 3,
   "id": "86f8d123",
   "metadata": {},
   "outputs": [
    {
     "name": "stdout",
     "output_type": "stream",
     "text": [
      "[8, 16, 24, 32, 40, 48, 56, 64, 72, 80]\n"
     ]
    }
   ],
   "source": [
    "print(multiples)"
   ]
  },
  {
   "cell_type": "code",
   "execution_count": 5,
   "id": "d1f3bf70",
   "metadata": {},
   "outputs": [
    {
     "name": "stdout",
     "output_type": "stream",
     "text": [
      "['Python', 'Perl', 'Ruby', 'Go', 'Java', 'C']\n",
      "[6, 4, 4, 2, 4, 1]\n"
     ]
    }
   ],
   "source": [
    "languages = ['Python', 'Perl', 'Ruby', 'Go', 'Java', 'C']\n",
    "lengths = [len(language) for language in languages]\n",
    "print(languages)\n",
    "print(lengths)"
   ]
  },
  {
   "cell_type": "code",
   "execution_count": 11,
   "id": "c3c95f0e",
   "metadata": {},
   "outputs": [
    {
     "name": "stdout",
     "output_type": "stream",
     "text": [
      "[0, 3, 6, 9, 12, 15, 18, 21, 24, 27, 30, 33, 36, 39, 42, 45, 48, 51, 54, 57, 60, 63, 66, 69, 72, 75, 78, 81, 84, 87, 90, 93, 96, 99]\n"
     ]
    }
   ],
   "source": [
    "z = []\n",
    "for x in range(0,100):\n",
    "    if x%3==0:\n",
    "        z.append(x)\n",
    "print(z)"
   ]
  },
  {
   "cell_type": "code",
   "execution_count": 10,
   "id": "c892da28",
   "metadata": {},
   "outputs": [
    {
     "name": "stdout",
     "output_type": "stream",
     "text": [
      "[0, 3, 6, 9, 12, 15, 18, 21, 24, 27, 30, 33, 36, 39, 42, 45, 48, 51, 54, 57, 60, 63, 66, 69, 72, 75, 78, 81, 84, 87, 90, 93, 96, 99]\n"
     ]
    }
   ],
   "source": [
    "z = [x for x in range(0, 100) if x%3==0]\n",
    "print(z)"
   ]
  },
  {
   "cell_type": "code",
   "execution_count": 15,
   "id": "719016c4",
   "metadata": {},
   "outputs": [
    {
     "name": "stdout",
     "output_type": "stream",
     "text": [
      "[10, 20, 30, 40, 50, 60, 70, 80, 90, 100]\n"
     ]
    }
   ],
   "source": [
    "# Q: Write code to print multiples of 10 using list comprehension\n",
    "multiples = [x*10 for x in range(1, 11)]\n",
    "print(multiples)"
   ]
  },
  {
   "cell_type": "code",
   "execution_count": 19,
   "id": "71056794",
   "metadata": {},
   "outputs": [],
   "source": [
    "a = [0,10, 20, 30, 40]\n",
    "a[2] = 30"
   ]
  },
  {
   "cell_type": "code",
   "execution_count": 20,
   "id": "a4737d11",
   "metadata": {},
   "outputs": [
    {
     "data": {
      "text/plain": [
       "[0, 10, 30, 30, 40]"
      ]
     },
     "execution_count": 20,
     "metadata": {},
     "output_type": "execute_result"
    }
   ],
   "source": [
    "a"
   ]
  },
  {
   "cell_type": "code",
   "execution_count": null,
   "id": "9cd255be",
   "metadata": {},
   "outputs": [],
   "source": []
  },
  {
   "cell_type": "code",
   "execution_count": null,
   "id": "c389b189",
   "metadata": {},
   "outputs": [],
   "source": []
  },
  {
   "cell_type": "code",
   "execution_count": null,
   "id": "17b6cc27",
   "metadata": {},
   "outputs": [],
   "source": []
  }
 ],
 "metadata": {
  "kernelspec": {
   "display_name": "Python 3 (ipykernel)",
   "language": "python",
   "name": "python3"
  },
  "language_info": {
   "codemirror_mode": {
    "name": "ipython",
    "version": 3
   },
   "file_extension": ".py",
   "mimetype": "text/x-python",
   "name": "python",
   "nbconvert_exporter": "python",
   "pygments_lexer": "ipython3",
   "version": "3.10.2"
  }
 },
 "nbformat": 4,
 "nbformat_minor": 5
}
